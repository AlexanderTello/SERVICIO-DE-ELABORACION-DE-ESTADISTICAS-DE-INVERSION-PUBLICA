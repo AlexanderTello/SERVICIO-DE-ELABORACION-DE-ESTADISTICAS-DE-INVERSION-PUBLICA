{
 "cells": [
  {
   "cell_type": "markdown",
   "metadata": {},
   "source": [
    "<img src=\"https://media-exp1.licdn.com/dms/image/C560BAQHgXkBxAhPV2Q/company-logo_200_200/0?e=2159024400&v=beta&t=1tsomaFfzFF5LcVhqwqP3sJtGMb8qC_cDGzF5BC6tfg\" width=\"60\" align = \"left\" alt=\"MEF logo\"  />\n",
    "\n",
    "#### <font color='grb({0},{192},{0)'>$$\\large\\text{Manual de manejo del scrapper de la Consulta Amigable de Gasto}$$</font>"
   ]
  },
  {
   "cell_type": "markdown",
   "metadata": {},
   "source": [
    "---"
   ]
  },
  {
   "cell_type": "markdown",
   "metadata": {},
   "source": [
    "##### <font color='grb({1},{0},{0)'>$$\\large\\text{Servicio de elaboración y análisis de las estadísticas de inversión pública para mejorar sus proyecciones.}$$</font>"
   ]
  },
  {
   "cell_type": "markdown",
   "metadata": {},
   "source": [
    "##### <font color='grb({1},{0},{0)'>$\\text{Alexander Max Tello Fuentes}$</font>\n",
    "##### <font color='grb({1},{0},{0)'>$\\text{Entregable N° 3:}$</font> Informe de elaboración de un manual para el usuario que incluyan los códigos de uso de la metodología o programa seleccionado para el acceso a la información (forma de uso de las metodologías, forma de acceso a la información, métodos de manipulación de la información, manual o guía del programa o de la herramienta de manejo de bases de datos o similares)."
   ]
  },
  {
   "cell_type": "markdown",
   "metadata": {},
   "source": [
    "---"
   ]
  },
  {
   "cell_type": "markdown",
   "metadata": {},
   "source": [
    "##### <font color='grb({0},{192},{0)'>$\\large\\text{Consideraciones previas!}$</font>\n",
    "Algunas librerías necesarias para usar esta herramienta no vienen por default con la descarga de Python. Por ello es necesario instalarlas previamente. Para una instalación rápida puede ejecutar la siguiente celda de códigos que instala Selenium y Beautiful Soup.  \n",
    "**Nota: Como los paquetes no estan instalados de forma permanente se debe ejecutar esta celda antes de que se use esta herramienta.** "
   ]
  },
  {
   "cell_type": "code",
   "execution_count": 1,
   "metadata": {},
   "outputs": [
    {
     "name": "stdout",
     "output_type": "stream",
     "text": [
      "Requirement already satisfied: selenium in c:\\users\\lenovo\\anaconda3\\lib\\site-packages (3.141.0)\n",
      "Requirement already satisfied: urllib3 in c:\\users\\lenovo\\anaconda3\\lib\\site-packages (from selenium) (1.26.8)\n",
      "Requirement already satisfied: BeautifulSoup4 in c:\\users\\lenovo\\anaconda3\\lib\\site-packages (4.10.0)\n",
      "Requirement already satisfied: soupsieve>1.2 in c:\\users\\lenovo\\anaconda3\\lib\\site-packages (from BeautifulSoup4) (2.3.1)\n",
      "Requirement already satisfied: tqdm in c:\\users\\lenovo\\anaconda3\\lib\\site-packages (4.62.3)\n",
      "Requirement already satisfied: colorama in c:\\users\\lenovo\\anaconda3\\lib\\site-packages (from tqdm) (0.4.4)\n"
     ]
    }
   ],
   "source": [
    "#Instalación de selenium: para scraping de páginas dinámicas\n",
    "!pip install selenium\n",
    "#Instalación de Beautiful soup: para scrapign de páginas estáticas\n",
    "!pip install BeautifulSoup4\n",
    "#Instalación de tqdm para la visualización de barras de progreso \n",
    "!pip install tqdm "
   ]
  },
  {
   "cell_type": "markdown",
   "metadata": {
    "tags": []
   },
   "source": [
    "# **Scrapper Consulta Amigable**\n",
    "El Scrapper Consulta Amigable es una herramienta que permite interactuar con la **Consulta Amigable de Gasto del MEF** y obtener en formato de tabla los datos de proyectos de acuerdo a un filtro deseado. Cabe resaltar que este filtro no necesariamente debe ser para descargar datos de proyectos, por el contrario es una herramienta versátil que permite la descarga de cualquier filtro disponible.  \n",
    "Esta herramienta está escrita en código Python, utilizando los paquetes de web scraping para páginas dinámicas, **\"Selenium\"**, y páginas estáticas, **\"Beautiful Soup\"**.  \n",
    "A continuación, se presentan las funcionalidades de la herramienta y los pasos a seguir para su uso."
   ]
  },
  {
   "cell_type": "markdown",
   "metadata": {},
   "source": [
    "### **1. Importar el Scrapper Consulta Amigable**\n",
    "\n",
    "El primer paso para el uso de la Consulta Amigable es importar el archivo que contiene la codificación de la herramienta. Esto hará que el entorno pueda utilizar las diferentes funciones para extraer los datos del portal web.  \n",
    "La codificación requerida para importar se presenta en la siguiente celda. La primera línea permite al entorno utilizar todas las funciones escritas dentro del archivo **Scrapper_Consulta_Amigable.py**; luego, la segunda línea permite acceder directamente a la **clase Consulta**, la cual permite interactuar con el navegador como se verá más adelante. "
   ]
  },
  {
   "cell_type": "code",
   "execution_count": 2,
   "metadata": {},
   "outputs": [],
   "source": [
    "import sys                           #Paquete que sirve para añadir leer files de subcarpetas en el directorio\n",
    "sys.path.insert(0, './Codigos_base') #Pedimos que se añada la subcarpeta Codigos_base\n",
    "import Scrapper_Consulta_Amigable    #Importa el archivo \n",
    "from Scrapper_Consulta_Amigable import CONSULTA #Importa la clase que manipula el Sistema de Seguimiento de Inversiones"
   ]
  },
  {
   "cell_type": "markdown",
   "metadata": {},
   "source": [
    "### **2. Iniciar la herramienta Scrapper Consulta Amigable**\n",
    "\n",
    "Una vez importada la librería, lo siguiente es iniciarla. Esto se realiza a través de la codificación en la celda siguiente, la cual descarga un navegador de prueba (Chrome), seguidamente, el navegador se redirije al portal web de la Consulta Amigable de Gasto del MEF, y finalmente imprime el mensaje *Listo! Has ingresado a la consulta* indicando que ya se puede realizar la extracción de datos.\n",
    "El navegador abierto se manipulará a través del nombre \"BP\" con el objetivo de evitar largas lineas de código.   "
   ]
  },
  {
   "cell_type": "code",
   "execution_count": 3,
   "metadata": {},
   "outputs": [
    {
     "name": "stderr",
     "output_type": "stream",
     "text": [
      "\n",
      "\n",
      "====== WebDriver manager ======\n",
      "Current google-chrome version is 98.0.4758\n",
      "Get LATEST driver version for 98.0.4758\n",
      "Get LATEST driver version for 98.0.4758\n",
      "Trying to download new driver from https://chromedriver.storage.googleapis.com/98.0.4758.80/chromedriver_win32.zip\n",
      "Driver has been saved in cache [C:\\Users\\LENOVO\\.wdm\\drivers\\chromedriver\\win32\\98.0.4758.80]\n"
     ]
    },
    {
     "name": "stdout",
     "output_type": "stream",
     "text": [
      "Listo! Has ingresado a la consulta\n"
     ]
    }
   ],
   "source": [
    "BP = CONSULTA() #Inicia el scrapper abriendo un navegador Chrome"
   ]
  },
  {
   "cell_type": "markdown",
   "metadata": {
    "tags": []
   },
   "source": [
    "### **3. Filtro de año, actividades y proyectos**\n",
    "\n",
    "<center><img src=\"https://raw.githubusercontent.com/AlexanderTello/imagenes/main/1.PNG\" width=\"640\" align=\"center\" alt=\"1\" /></center>\n",
    "\n",
    "Como se puede observar en la imagen, la Consulta Amigable cuenta con **dos listas deplegables, uno para seleccionar el año y el segundo para seleccionar proyectos, actividades o ambos.**  \n",
    "\n",
    "En ese sentido, la herramienta Scrapper Consulta Amigable cuenta con órdenes para manipular estas listas desplegables. Estos procedimientos se invocan de la siguiente forma: \n",
    "\n",
    "BP.AÑO(*número de año*)  --> Para seleccionar el año  \n",
    "BP.ACTIVIDADES(*'PROYECTO'*) --> Para seleccionar solo proyectos, actividades o ambos"
   ]
  },
  {
   "cell_type": "code",
   "execution_count": 4,
   "metadata": {},
   "outputs": [
    {
     "name": "stdout",
     "output_type": "stream",
     "text": [
      "Listo! Seleccionaste el año\n",
      "Listo! Seleccionaste Proyecto\n"
     ]
    }
   ],
   "source": [
    "BP.AÑO(2021)               #Ordena selección de año\n",
    "BP.ACTIVIDADES('PROYECTO') #Seleccionamos solo proyectos. Escribir 'ACTIVIDAD' para solo actividades. "
   ]
  },
  {
   "cell_type": "markdown",
   "metadata": {},
   "source": [
    "### **4. Botones de consulta**\n",
    "\n",
    "<center><img src=\"https://raw.githubusercontent.com/AlexanderTello/imagenes/main/2.PNG\" width=\"840\" align=\"center\" alt=\"1\" /></center>\n",
    "\n",
    "Los botones de consulta son aquellos que aparecen al cargar la Consulta Amigable. Como se puede observar en la imagen, estos botones son **Nivel de gobierno, categoría presupuestal, función, fuente, rubro, genérica, departamento, trimestre y mes**. Al hacer click en cada uno de ellos aparecen nuevas opciones como **pliego, producto/proyecto, sector, subgenerica, específica, entre otras**. \n",
    "\n",
    "La herramienta Scrapper Consulta Amigable cuenta con órdenes para manipular algunos botones, considerados de mayor uso. Estos son los siguientes: \n",
    "1. **Nivel de gobierno:** BP.GOBIERNO('Codigo o tabla'), 'E' para GN, 'R' para GR, 'M' para GL. \n",
    "2. **Función:**  BP.FUNCION('Codigo o tabla')\n",
    "3. **Generica:**  BP.GENERICA('Codigo o tabla')\n",
    "4. **Departamento:**  BP.DEPARTAMENTO'Codigo o tabla')\n",
    "5. **Mes:**  BP.MES('Codigo o tabla')  \n",
    "6. **Rubro:**  BP.RUBRO('Codigo o tabla')\n",
    "7. **Fuente:**  BP.FUENTE('Codigo o tabla')\n",
    "8. **Sector:**  BP.SECTOR('Codigo o tabla')\n",
    "9. **Pliego:**  BP.PLIEGO('Codigo o tabla')\n",
    "10. **Proyecto:**  BP.PROYECTO('Codigo o tabla')\n",
    "\n",
    "La interacción con estos botones es simple y se realiza a través de una de las formas señaladas líneas arriba. Estas funciones trabajan con el código del gobierno, función, etc. Por ejemplo, en la Consulta Amigable el gobierno nacional está escrito de la siguiente manera: *E:GOBIERNO NACIONAL*, con ello el código es aquello que está antes de los dos puntos. Como resultado, la herramienta entrega una tabla de que contiene el PIA,PIM, DEVENGADO, y GIRADO.  \n",
    "Además, se puede extraer todos los datos mostrados si se escribe dentro del paréntesis \"**TODO_A**\". En caso se requiera los datos mensuales para cada fila de la tabla, es posible extraerlo escribiendo en el paréntesis **TODO_M**. "
   ]
  },
  {
   "cell_type": "markdown",
   "metadata": {},
   "source": [
    "###### <font color='grb({1},{0},{60)'>$\\large\\text{4.1. Datos de un solo registro}$</font>\n",
    "<center><img src=\"https://raw.githubusercontent.com/AlexanderTello/imagenes/main/3.PNG\" width=\"540\" align=\"center\" alt=\"1\" /></center>\n",
    "\n",
    "Al invocar una orden con la herramienta Scrapper Consulta Amigable se puede obtener los datos financieros de un registro mediante el uso de su código. Este código es el número o letra que está antes de los dos puntos.  \n",
    "Por ejemplo, en el caso de seleccionar la generica 6.26, esta aparece en la consulta como **6-26: ADQUISICION DE ACTIVOS NO FINANCIEROS**. Por lo tanto su código es **6-26**, y la forma de extraer sus datos es **BP. GENERICA('6-26')**."
   ]
  },
  {
   "cell_type": "code",
   "execution_count": 5,
   "metadata": {},
   "outputs": [
    {
     "data": {
      "text/html": [
       "<div>\n",
       "<style scoped>\n",
       "    .dataframe tbody tr th:only-of-type {\n",
       "        vertical-align: middle;\n",
       "    }\n",
       "\n",
       "    .dataframe tbody tr th {\n",
       "        vertical-align: top;\n",
       "    }\n",
       "\n",
       "    .dataframe thead th {\n",
       "        text-align: right;\n",
       "    }\n",
       "</style>\n",
       "<table border=\"1\" class=\"dataframe\">\n",
       "  <thead>\n",
       "    <tr style=\"text-align: right;\">\n",
       "      <th></th>\n",
       "      <th>Generica</th>\n",
       "      <th>PIA_2021</th>\n",
       "      <th>PIM_2021</th>\n",
       "      <th>DEV_2021</th>\n",
       "      <th>GIR_2021</th>\n",
       "    </tr>\n",
       "  </thead>\n",
       "  <tbody>\n",
       "    <tr>\n",
       "      <th>0</th>\n",
       "      <td>6-26</td>\n",
       "      <td>38988.012728</td>\n",
       "      <td>55704.919665</td>\n",
       "      <td>38839.06849</td>\n",
       "      <td>38741.530096</td>\n",
       "    </tr>\n",
       "  </tbody>\n",
       "</table>\n",
       "</div>"
      ],
      "text/plain": [
       "  Generica      PIA_2021      PIM_2021     DEV_2021      GIR_2021\n",
       "0     6-26  38988.012728  55704.919665  38839.06849  38741.530096"
      ]
     },
     "execution_count": 5,
     "metadata": {},
     "output_type": "execute_result"
    }
   ],
   "source": [
    "BP.GENERICA('6-26')      #Extracción de un registro específico"
   ]
  },
  {
   "cell_type": "markdown",
   "metadata": {},
   "source": [
    "###### <font color='grb({1},{0},{60)'>$\\large\\text{4.2. Datos de todos los registros}$</font>\n",
    "<center><img src=\"https://raw.githubusercontent.com/AlexanderTello/imagenes/main/4.PNG\" width=\"740\" align=\"center\" alt=\"1\" /></center>\n",
    "\n",
    "Esta herramienta también permite la extracción de toda la tabla después de presionar un botón. Por ejemplo, si se selecciona la opción \"GENERICA\", es posible obtener los datos de todas las genéricas.  \n",
    "La sintaxis para dar la orden es la siguiente: **BP.GENERICA('TODO_A')**."
   ]
  },
  {
   "cell_type": "code",
   "execution_count": 6,
   "metadata": {},
   "outputs": [
    {
     "data": {
      "text/html": [
       "<div>\n",
       "<style scoped>\n",
       "    .dataframe tbody tr th:only-of-type {\n",
       "        vertical-align: middle;\n",
       "    }\n",
       "\n",
       "    .dataframe tbody tr th {\n",
       "        vertical-align: top;\n",
       "    }\n",
       "\n",
       "    .dataframe thead th {\n",
       "        text-align: right;\n",
       "    }\n",
       "</style>\n",
       "<table border=\"1\" class=\"dataframe\">\n",
       "  <thead>\n",
       "    <tr style=\"text-align: right;\">\n",
       "      <th></th>\n",
       "      <th>Generica</th>\n",
       "      <th>PIA_2021</th>\n",
       "      <th>PIM_2021</th>\n",
       "      <th>DEV_2021</th>\n",
       "      <th>GIR_2021</th>\n",
       "    </tr>\n",
       "  </thead>\n",
       "  <tbody>\n",
       "    <tr>\n",
       "      <th>0</th>\n",
       "      <td>5-21</td>\n",
       "      <td>0.000000</td>\n",
       "      <td>0.003900</td>\n",
       "      <td>0.000000</td>\n",
       "      <td>0.000000</td>\n",
       "    </tr>\n",
       "    <tr>\n",
       "      <th>1</th>\n",
       "      <td>6-24</td>\n",
       "      <td>0.000000</td>\n",
       "      <td>130.502240</td>\n",
       "      <td>91.301872</td>\n",
       "      <td>91.301872</td>\n",
       "    </tr>\n",
       "    <tr>\n",
       "      <th>2</th>\n",
       "      <td>6-26</td>\n",
       "      <td>38988.012728</td>\n",
       "      <td>55704.919665</td>\n",
       "      <td>38839.068490</td>\n",
       "      <td>38741.530096</td>\n",
       "    </tr>\n",
       "  </tbody>\n",
       "</table>\n",
       "</div>"
      ],
      "text/plain": [
       "  Generica      PIA_2021      PIM_2021      DEV_2021      GIR_2021\n",
       "0     5-21      0.000000      0.003900      0.000000      0.000000\n",
       "1     6-24      0.000000    130.502240     91.301872     91.301872\n",
       "2     6-26  38988.012728  55704.919665  38839.068490  38741.530096"
      ]
     },
     "execution_count": 6,
     "metadata": {},
     "output_type": "execute_result"
    }
   ],
   "source": [
    "BP.GENERICA('TODO_A') #Extracción de toda la tabla"
   ]
  },
  {
   "cell_type": "markdown",
   "metadata": {},
   "source": [
    "###### <font color='grb({1},{0},{60)'>$\\large\\text{4.3. Extracción de los datos mensuales de todos los registros}$</font>\n",
    "<center><img src=\"https://raw.githubusercontent.com/AlexanderTello/imagenes/main/5.PNG\" width=\"650\" align=\"center\" alt=\"1\" /></center>\n",
    "\n",
    "Esta herramienta también permite la extracción de datos mensuales por cada regitro de la tabla. Por ejemplo, si se selecciona esta opción para extraer la genérica, se seleccionara cada fila para luego hacer click en mes y posterioremente regresar.    \n",
    "La sintaxis para dar la orden es la siguiente: **BP.GENERICA('TODO_M')**."
   ]
  },
  {
   "cell_type": "code",
   "execution_count": 7,
   "metadata": {},
   "outputs": [
    {
     "data": {
      "text/html": [
       "<div>\n",
       "<style scoped>\n",
       "    .dataframe tbody tr th:only-of-type {\n",
       "        vertical-align: middle;\n",
       "    }\n",
       "\n",
       "    .dataframe tbody tr th {\n",
       "        vertical-align: top;\n",
       "    }\n",
       "\n",
       "    .dataframe thead th {\n",
       "        text-align: right;\n",
       "    }\n",
       "</style>\n",
       "<table border=\"1\" class=\"dataframe\">\n",
       "  <thead>\n",
       "    <tr style=\"text-align: right;\">\n",
       "      <th></th>\n",
       "      <th>dev_5-21</th>\n",
       "      <th>gir_5-21</th>\n",
       "      <th>mes</th>\n",
       "      <th>dev_6-24</th>\n",
       "      <th>gir_6-24</th>\n",
       "      <th>dev_6-26</th>\n",
       "      <th>gir_6-26</th>\n",
       "    </tr>\n",
       "  </thead>\n",
       "  <tbody>\n",
       "    <tr>\n",
       "      <th>0</th>\n",
       "      <td>NaN</td>\n",
       "      <td>NaN</td>\n",
       "      <td>2021-01-01</td>\n",
       "      <td>27.656299</td>\n",
       "      <td>0.149990</td>\n",
       "      <td>983.903052</td>\n",
       "      <td>354.635950</td>\n",
       "    </tr>\n",
       "    <tr>\n",
       "      <th>1</th>\n",
       "      <td>NaN</td>\n",
       "      <td>NaN</td>\n",
       "      <td>2021-02-01</td>\n",
       "      <td>0.000000</td>\n",
       "      <td>27.506309</td>\n",
       "      <td>2146.978855</td>\n",
       "      <td>1982.035359</td>\n",
       "    </tr>\n",
       "    <tr>\n",
       "      <th>2</th>\n",
       "      <td>NaN</td>\n",
       "      <td>NaN</td>\n",
       "      <td>2021-03-01</td>\n",
       "      <td>2.880195</td>\n",
       "      <td>2.880195</td>\n",
       "      <td>3770.483453</td>\n",
       "      <td>3354.293859</td>\n",
       "    </tr>\n",
       "    <tr>\n",
       "      <th>3</th>\n",
       "      <td>NaN</td>\n",
       "      <td>NaN</td>\n",
       "      <td>2021-04-01</td>\n",
       "      <td>8.948196</td>\n",
       "      <td>8.948196</td>\n",
       "      <td>2866.417475</td>\n",
       "      <td>3181.696168</td>\n",
       "    </tr>\n",
       "    <tr>\n",
       "      <th>4</th>\n",
       "      <td>NaN</td>\n",
       "      <td>NaN</td>\n",
       "      <td>2021-05-01</td>\n",
       "      <td>0.170000</td>\n",
       "      <td>0.050000</td>\n",
       "      <td>2985.993921</td>\n",
       "      <td>2563.185212</td>\n",
       "    </tr>\n",
       "    <tr>\n",
       "      <th>5</th>\n",
       "      <td>NaN</td>\n",
       "      <td>NaN</td>\n",
       "      <td>2021-06-01</td>\n",
       "      <td>3.436609</td>\n",
       "      <td>3.556609</td>\n",
       "      <td>3057.523227</td>\n",
       "      <td>3410.820568</td>\n",
       "    </tr>\n",
       "    <tr>\n",
       "      <th>6</th>\n",
       "      <td>NaN</td>\n",
       "      <td>NaN</td>\n",
       "      <td>2021-07-01</td>\n",
       "      <td>2.036310</td>\n",
       "      <td>2.036310</td>\n",
       "      <td>2838.254293</td>\n",
       "      <td>2794.120206</td>\n",
       "    </tr>\n",
       "    <tr>\n",
       "      <th>7</th>\n",
       "      <td>NaN</td>\n",
       "      <td>NaN</td>\n",
       "      <td>2021-08-01</td>\n",
       "      <td>0.589563</td>\n",
       "      <td>0.589563</td>\n",
       "      <td>3060.122885</td>\n",
       "      <td>2899.460758</td>\n",
       "    </tr>\n",
       "    <tr>\n",
       "      <th>8</th>\n",
       "      <td>NaN</td>\n",
       "      <td>NaN</td>\n",
       "      <td>2021-09-01</td>\n",
       "      <td>0.228764</td>\n",
       "      <td>0.110000</td>\n",
       "      <td>3426.938007</td>\n",
       "      <td>3361.478892</td>\n",
       "    </tr>\n",
       "    <tr>\n",
       "      <th>9</th>\n",
       "      <td>NaN</td>\n",
       "      <td>NaN</td>\n",
       "      <td>2021-10-01</td>\n",
       "      <td>0.170000</td>\n",
       "      <td>0.288764</td>\n",
       "      <td>3362.547725</td>\n",
       "      <td>3294.174464</td>\n",
       "    </tr>\n",
       "    <tr>\n",
       "      <th>10</th>\n",
       "      <td>NaN</td>\n",
       "      <td>NaN</td>\n",
       "      <td>2021-11-01</td>\n",
       "      <td>2.294980</td>\n",
       "      <td>2.294980</td>\n",
       "      <td>3212.920981</td>\n",
       "      <td>3290.127547</td>\n",
       "    </tr>\n",
       "    <tr>\n",
       "      <th>11</th>\n",
       "      <td>NaN</td>\n",
       "      <td>NaN</td>\n",
       "      <td>2021-12-01</td>\n",
       "      <td>42.890956</td>\n",
       "      <td>42.890956</td>\n",
       "      <td>7126.984616</td>\n",
       "      <td>8255.501114</td>\n",
       "    </tr>\n",
       "  </tbody>\n",
       "</table>\n",
       "</div>"
      ],
      "text/plain": [
       "   dev_5-21 gir_5-21        mes   dev_6-24   gir_6-24     dev_6-26  \\\n",
       "0       NaN      NaN 2021-01-01  27.656299   0.149990   983.903052   \n",
       "1       NaN      NaN 2021-02-01   0.000000  27.506309  2146.978855   \n",
       "2       NaN      NaN 2021-03-01   2.880195   2.880195  3770.483453   \n",
       "3       NaN      NaN 2021-04-01   8.948196   8.948196  2866.417475   \n",
       "4       NaN      NaN 2021-05-01   0.170000   0.050000  2985.993921   \n",
       "5       NaN      NaN 2021-06-01   3.436609   3.556609  3057.523227   \n",
       "6       NaN      NaN 2021-07-01   2.036310   2.036310  2838.254293   \n",
       "7       NaN      NaN 2021-08-01   0.589563   0.589563  3060.122885   \n",
       "8       NaN      NaN 2021-09-01   0.228764   0.110000  3426.938007   \n",
       "9       NaN      NaN 2021-10-01   0.170000   0.288764  3362.547725   \n",
       "10      NaN      NaN 2021-11-01   2.294980   2.294980  3212.920981   \n",
       "11      NaN      NaN 2021-12-01  42.890956  42.890956  7126.984616   \n",
       "\n",
       "       gir_6-26  \n",
       "0    354.635950  \n",
       "1   1982.035359  \n",
       "2   3354.293859  \n",
       "3   3181.696168  \n",
       "4   2563.185212  \n",
       "5   3410.820568  \n",
       "6   2794.120206  \n",
       "7   2899.460758  \n",
       "8   3361.478892  \n",
       "9   3294.174464  \n",
       "10  3290.127547  \n",
       "11  8255.501114  "
      ]
     },
     "execution_count": 7,
     "metadata": {},
     "output_type": "execute_result"
    }
   ],
   "source": [
    "BP.GENERICA('TODO_M') #Extracción de datos mensuales por registro"
   ]
  },
  {
   "cell_type": "markdown",
   "metadata": {},
   "source": [
    "###### <font color='grb({1},{0},{60)'>$\\large\\text{4.4. Otras funcionalidades}$</font>\n",
    "\n",
    "La herramienta incorpora otras funcionalidades además de los botones de la consulta amigable: \n",
    "\n",
    "1. **Cerrar navegador:** BP.CERRAR(), cierra el navegador terminando con la consulta.  \n",
    "2. **Obtener los identificadores:**  BP.indices(), retorna una lista con los identificadores de la tabla observable. \n",
    "3. **Retroceder:**  BP.regresar('Codigo o tabla'), regresa a la tabla anterior."
   ]
  },
  {
   "cell_type": "code",
   "execution_count": 9,
   "metadata": {},
   "outputs": [
    {
     "data": {
      "text/plain": [
       "['5-21', '6-24', '6-26']"
      ]
     },
     "execution_count": 9,
     "metadata": {},
     "output_type": "execute_result"
    }
   ],
   "source": [
    "BP.indices()"
   ]
  },
  {
   "cell_type": "code",
   "execution_count": 10,
   "metadata": {},
   "outputs": [
    {
     "name": "stdout",
     "output_type": "stream",
     "text": [
      "Has cerrado sesión\n"
     ]
    }
   ],
   "source": [
    "BP.CERRAR()"
   ]
  },
  {
   "cell_type": "markdown",
   "metadata": {},
   "source": [
    "### **5. Ejemplo práctico**\n",
    "\n",
    "En el siguiente ejemplo se obtendrán los datos de proyectos a nivel de gobierno nacional y filtrado por sector. El filtro a seguir es el siguiente: primero se selecciona la opción solo proyectos; luego, se selecciona el año; tercero, se filtra por nivel de gobierno y se selecciona GN; luego se filtra por sector; finalmente, se obtienen los proyectos para cada sector.   \n",
    "Para realizar estas acciones emplearemos el Scrapper Consulta Amigable, para realizar el manejo del portal web y para la extracción de sus datos de forma automatizada.   \n",
    "\n",
    "**Nota: Se emplean otros comandos no asociados al *web scraping* para la iteración y concatenación de tablas. A pesar de ello, estos comando son fáciles de entender ya que usualmente el código es simplemente la orden deseada en idioma inglés.**"
   ]
  },
  {
   "cell_type": "markdown",
   "metadata": {},
   "source": [
    "###### <font color='grb({1},{0},{60)'>$\\large\\text{5.1. Importar librerias}$</font>\n",
    "Se importan las librerias \"pandas\", que sirve para el manejo de tablas de datos (DataFrame); \"tqdm\", que permitirá que se muestre una barra de progreso en la iteración; y el Scrapper Consulta Amigable, el cual permitirá la búsqueda y descarga de datos automatizada."
   ]
  },
  {
   "cell_type": "code",
   "execution_count": 11,
   "metadata": {},
   "outputs": [],
   "source": [
    "import pandas as pd #paquete para el manejo de tablas o DataFrames\n",
    "from tqdm import tqdm #Muestra la barra de progreso de una iteración \n",
    "from tqdm.notebook import tqdm_notebook \n",
    "import Scrapper_Consulta_Amigable #Automatiza la descarga de datos en la Consulta Amigable del MEF\n",
    "from Scrapper_Consulta_Amigable import CONSULTA"
   ]
  },
  {
   "cell_type": "markdown",
   "metadata": {},
   "source": [
    "###### <font color='grb({1},{0},{60)'>$\\large\\text{5.2. Recolectar la información de forma automática}$</font>\n",
    "Una vez abierto el navegador a través del Scrapper Consulta Amigable el proceso de extracción de datos es simple: primero, se filtran solo proyectos, nivel de gobierno nacional, y sector; luego, se itera para que se seleccione cada sector y se dirija a los proyectos de ese sector. Finalmente se juntan las tablas por coincidencia de columnas. "
   ]
  },
  {
   "cell_type": "code",
   "execution_count": 12,
   "metadata": {
    "tags": []
   },
   "outputs": [
    {
     "name": "stderr",
     "output_type": "stream",
     "text": [
      "\n",
      "\n",
      "====== WebDriver manager ======\n",
      "Current google-chrome version is 98.0.4758\n",
      "Get LATEST driver version for 98.0.4758\n",
      "Driver [C:\\Users\\LENOVO\\.wdm\\drivers\\chromedriver\\win32\\98.0.4758.80\\chromedriver.exe] found in cache\n"
     ]
    },
    {
     "name": "stdout",
     "output_type": "stream",
     "text": [
      "Listo! Has ingresado a la consulta\n",
      "Listo! Seleccionaste el año\n",
      "Listo! Seleccionaste Proyecto\n",
      "Para este año no se cuenta con el sector \n"
     ]
    },
    {
     "data": {
      "application/vnd.jupyter.widget-view+json": {
       "model_id": "c94130b62bdd4edd8f8944768fde5f66",
       "version_major": 2,
       "version_minor": 0
      },
      "text/plain": [
       "Progreso:   0%|          | 0/27 [00:00<?, ?it/s]"
      ]
     },
     "metadata": {},
     "output_type": "display_data"
    },
    {
     "name": "stderr",
     "output_type": "stream",
     "text": [
      "C:\\Users\\LENOVO\\anaconda3\\lib\\site-packages\\pandas\\core\\frame.py:3641: SettingWithCopyWarning: \n",
      "A value is trying to be set on a copy of a slice from a DataFrame.\n",
      "Try using .loc[row_indexer,col_indexer] = value instead\n",
      "\n",
      "See the caveats in the documentation: https://pandas.pydata.org/pandas-docs/stable/user_guide/indexing.html#returning-a-view-versus-a-copy\n",
      "  self[k1] = value[k2]\n"
     ]
    },
    {
     "name": "stdout",
     "output_type": "stream",
     "text": [
      "Has cerrado sesión\n"
     ]
    }
   ],
   "source": [
    "BP = CONSULTA()                        #Abre el navegador de Chrome y se redirige a la página de la Consulta Amigable\n",
    "BP.AÑO(2021)                           #Selecciona año  \n",
    "BP.ACTIVIDADES('PROYECTO')             #Selecciona solo proyectos\n",
    "BP.GOBIERNO('E')                       #Selecciona nivel de gobierno nacional\n",
    "BP.SECTOR()                            #Filtr por sector \n",
    "filas = BP.indices()                   #Extrae el código identificador de cada sector  \n",
    "contenedor = []                        #Almacenará los datos recabados\n",
    "for x in tqdm_notebook(filas,desc='Progreso'): #Se itera para cada sector hallado en el año\n",
    "    BP.SECTOR(x)                       #Se selecciona un sector\n",
    "    contenedor.append(BP.PROYECTO('TODO_A',sect=x))#Se va los proyectos y se extrae los datos\n",
    "    BP.retroceder()                    #Regresa a la ventana anterior para seleccionar otro sector\n",
    "BP.CERRAR()                            #Cierra el navegador al terminar la iteración \n",
    "proy_inversion = pd.concat(contenedor) #Se concatenan las tablas contenidas en la lista"
   ]
  },
  {
   "cell_type": "code",
   "execution_count": 13,
   "metadata": {},
   "outputs": [
    {
     "data": {
      "text/html": [
       "<div>\n",
       "<style scoped>\n",
       "    .dataframe tbody tr th:only-of-type {\n",
       "        vertical-align: middle;\n",
       "    }\n",
       "\n",
       "    .dataframe tbody tr th {\n",
       "        vertical-align: top;\n",
       "    }\n",
       "\n",
       "    .dataframe thead th {\n",
       "        text-align: right;\n",
       "    }\n",
       "</style>\n",
       "<table border=\"1\" class=\"dataframe\">\n",
       "  <thead>\n",
       "    <tr style=\"text-align: right;\">\n",
       "      <th></th>\n",
       "      <th>CUI</th>\n",
       "      <th>Proyecto</th>\n",
       "      <th>PIA_2021</th>\n",
       "      <th>PIM_2021</th>\n",
       "      <th>DEV_2021</th>\n",
       "      <th>GIR_2021</th>\n",
       "      <th>Sector</th>\n",
       "    </tr>\n",
       "  </thead>\n",
       "  <tbody>\n",
       "    <tr>\n",
       "      <th>0</th>\n",
       "      <td>2000270</td>\n",
       "      <td>GESTION DE PROYECTOS                         ...</td>\n",
       "      <td>167.065657</td>\n",
       "      <td>138.330364</td>\n",
       "      <td>126.436144</td>\n",
       "      <td>126436144 ...</td>\n",
       "      <td>01</td>\n",
       "    </tr>\n",
       "    <tr>\n",
       "      <th>1</th>\n",
       "      <td>2001621</td>\n",
       "      <td>ESTUDIOS DE PRE-INVERSION                    ...</td>\n",
       "      <td>4825.122921</td>\n",
       "      <td>32.447328</td>\n",
       "      <td>24.419332</td>\n",
       "      <td>24419332  ...</td>\n",
       "      <td>01</td>\n",
       "    </tr>\n",
       "    <tr>\n",
       "      <th>2</th>\n",
       "      <td>2089754</td>\n",
       "      <td>EXPEDIENTES TECNICOS, ESTUDIOS DE PRE-INVERSI...</td>\n",
       "      <td>353.758086</td>\n",
       "      <td>0.000000</td>\n",
       "      <td>0.000000</td>\n",
       "      <td>0         ...</td>\n",
       "      <td>01</td>\n",
       "    </tr>\n",
       "    <tr>\n",
       "      <th>3</th>\n",
       "      <td>2271925</td>\n",
       "      <td>MEJORAMIENTO Y AMPLIACION DE LOS SERVICIOS DE...</td>\n",
       "      <td>77.128113</td>\n",
       "      <td>51.855911</td>\n",
       "      <td>46.530821</td>\n",
       "      <td>46530776  ...</td>\n",
       "      <td>01</td>\n",
       "    </tr>\n",
       "    <tr>\n",
       "      <th>4</th>\n",
       "      <td>2321591</td>\n",
       "      <td>MEJORAMIENTO DE LOS SERVICIOS DE SALUD EN EL ...</td>\n",
       "      <td>63.500000</td>\n",
       "      <td>58.229356</td>\n",
       "      <td>54.497423</td>\n",
       "      <td>54497418  ...</td>\n",
       "      <td>01</td>\n",
       "    </tr>\n",
       "  </tbody>\n",
       "</table>\n",
       "</div>"
      ],
      "text/plain": [
       "                                           CUI  \\\n",
       "0                                      2000270   \n",
       "1                                      2001621   \n",
       "2                                      2089754   \n",
       "3                                      2271925   \n",
       "4                                      2321591   \n",
       "\n",
       "                                            Proyecto     PIA_2021    PIM_2021  \\\n",
       "0   GESTION DE PROYECTOS                         ...   167.065657  138.330364   \n",
       "1   ESTUDIOS DE PRE-INVERSION                    ...  4825.122921   32.447328   \n",
       "2   EXPEDIENTES TECNICOS, ESTUDIOS DE PRE-INVERSI...   353.758086    0.000000   \n",
       "3   MEJORAMIENTO Y AMPLIACION DE LOS SERVICIOS DE...    77.128113   51.855911   \n",
       "4   MEJORAMIENTO DE LOS SERVICIOS DE SALUD EN EL ...    63.500000   58.229356   \n",
       "\n",
       "     DEV_2021                                           GIR_2021 Sector  \n",
       "0  126.436144                                      126436144 ...     01  \n",
       "1   24.419332                                      24419332  ...     01  \n",
       "2    0.000000                                      0         ...     01  \n",
       "3   46.530821                                      46530776  ...     01  \n",
       "4   54.497423                                      54497418  ...     01  "
      ]
     },
     "execution_count": 13,
     "metadata": {},
     "output_type": "execute_result"
    }
   ],
   "source": [
    "proy_inversion.head()"
   ]
  },
  {
   "cell_type": "markdown",
   "metadata": {},
   "source": [
    "###### <font color='grb({1},{0},{60)'>$\\large\\text{5.3. Guardar los datos}$</font>\n",
    "Finalmente utilizamos la librería pandas para guardar los resultados en formato Excel. "
   ]
  },
  {
   "cell_type": "code",
   "execution_count": 15,
   "metadata": {},
   "outputs": [],
   "source": [
    "proy_inversion.to_excel('Resultados_ejemplos/Proy_GN.xlsx') #Guardamos los datos en un excel en la carpeta Resultados_ejemplos"
   ]
  }
 ],
 "metadata": {
  "kernelspec": {
   "display_name": "Python 3 (ipykernel)",
   "language": "python",
   "name": "python3"
  },
  "language_info": {
   "codemirror_mode": {
    "name": "ipython",
    "version": 3
   },
   "file_extension": ".py",
   "mimetype": "text/x-python",
   "name": "python",
   "nbconvert_exporter": "python",
   "pygments_lexer": "ipython3",
   "version": "3.8.12"
  }
 },
 "nbformat": 4,
 "nbformat_minor": 4
}
