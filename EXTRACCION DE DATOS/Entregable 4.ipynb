{
 "cells": [
  {
   "cell_type": "markdown",
   "id": "61a30c67-2775-4812-bf8c-5deb3169a3af",
   "metadata": {},
   "source": [
    "<img src=\"https://media-exp1.licdn.com/dms/image/C560BAQHgXkBxAhPV2Q/company-logo_200_200/0?e=2159024400&v=beta&t=1tsomaFfzFF5LcVhqwqP3sJtGMb8qC_cDGzF5BC6tfg\" width=\"60\" align = \"left\" alt=\"MEF logo\"  />\n",
    "\n",
    "#### <font color='grb({0},{192},{0)'>$$\\large\\text{Descarga de datos}$$</font>"
   ]
  },
  {
   "cell_type": "markdown",
   "id": "27054af3-9c43-4848-9142-9cc0683ed7b0",
   "metadata": {},
   "source": [
    "### **1. Consulta Amigable de Gastos**"
   ]
  },
  {
   "cell_type": "code",
   "execution_count": null,
   "id": "6702f4d3-c89f-4e66-9080-d41389e86236",
   "metadata": {},
   "outputs": [],
   "source": [
    "import pandas as pd   #paquete para el manejo de tablas o DataFrames\n",
    "from tqdm import tqdm #Muestra la barra de progreso de una iteración \n",
    "from tqdm.notebook import tqdm_notebook \n",
    "import Scrapper_Consulta_Amigable #Automatiza la descarga de datos en la Consulta Amigable del MEF\n",
    "from Scrapper_Consulta_Amigable import CONSULTA #Importa la clase CONSULTA\n",
    "import time           #Importa la libreria que permite registrar tiempo\n",
    "from joblib import Parallel, delayed #Libreria que permite paralelizar varias tareas"
   ]
  },
  {
   "cell_type": "markdown",
   "id": "455f3811-c46f-457b-8225-62030333f58c",
   "metadata": {},
   "source": [
    "#### 1.1. Gobierno nacional"
   ]
  },
  {
   "cell_type": "code",
   "execution_count": null,
   "id": "2ea134ab-6216-44de-beaa-14c61b66f81d",
   "metadata": {},
   "outputs": [],
   "source": [
    "def CONSULTA_GN(x):\n",
    "    '''\n",
    "    Función que descarga proyectos del gobierno nacional \n",
    "    '''\n",
    "    import pandas as pd                    #Librería para manejo de DataFrames\n",
    "    import Scrapper_Consulta_Amigable      #Automatiza la descarga de datos en la Consulta Amigable del MEF\n",
    "    from Scrapper_Consulta_Amigable import CONSULTA\n",
    "    BP = CONSULTA()                        #Abre el navegador de Chrome y se redirige a la página de la Consulta Amigable\n",
    "    BP.AÑO(x)                              #Selecciona año  \n",
    "    BP.ACTIVIDADES('PROYECTO')             #Selecciona solo proyectos\n",
    "    BP.SELECCION('NIVEL','E')              #Selecciona nivel de gobierno nacional\n",
    "    BP.SELECCION('SECTOR')                 #Filtra por sector \n",
    "    nombres = BP.nombres()                 #Extrae el nombre del sector\n",
    "    filas = BP.indices()                   #Extrae el código identificador de cada sector  \n",
    "    contenedor = []                        #Almacenará los datos recabados\n",
    "    for x,y in zip(filas,nombres):         #Se itera para cada sector hallado en el año\n",
    "        BP.SELECCION('SECTOR',x)           #Se selecciona un sector\n",
    "        #Extrae data anual de proyectos y agrega columna con nombre de sector y código \n",
    "        contenedor.append(BP.SELECCION('PROYECTO','TODO_A',{'SECTOR':x, 'Nomb_Sect':y}))\n",
    "        BP.retroceder()                    #Regresa a la ventana anterior para seleccionar otro sector\n",
    "    BP.CERRAR()                            #Cierra el navegador al terminar la iteración \n",
    "    proy_inversion = pd.concat(contenedor) #Se concatenan las tablas contenidas en la lista\n",
    "    proy_inversion = proy_inversion.reset_index(drop=True) #Vuelve al índice por default\n",
    "    return proy_inversion                  #Retorna la tabla de proyectos como resultado"
   ]
  },
  {
   "cell_type": "code",
   "execution_count": null,
   "id": "c3ba0c34-15a9-4a8b-ba62-51bd7a2d7bf2",
   "metadata": {},
   "outputs": [],
   "source": [
    "start = time.time()\n",
    "\n",
    "#Extrae los datos de de proyectos del 2004 al 2022 (realiza cuatro búsquedas al mismo tiempo)\n",
    "GN = Parallel(n_jobs=4)(delayed(CONSULTA_GN)(x) for x in tqdm(range(2004,2022)))\n",
    "\n",
    "end = time.time()\n",
    "print(end - start)"
   ]
  },
  {
   "cell_type": "markdown",
   "id": "ae77e320-5695-477c-a6aa-31fc7e423f59",
   "metadata": {},
   "source": [
    "#### 1.2. Gobiernos regionales "
   ]
  },
  {
   "cell_type": "code",
   "execution_count": null,
   "id": "64939334-4b89-4aa9-86ac-8a83ad5152c1",
   "metadata": {},
   "outputs": [],
   "source": [
    "def CONSULTA_GR(x):\n",
    "    '''\n",
    "    Función que descarga proyectos del gobierno regional por pliego \n",
    "    '''\n",
    "    import pandas as pd                    #Librería para manejo de DataFrames\n",
    "    import Scrapper_Consulta_Amigable      #Automatiza la descarga de datos en la Consulta Amigable del MEF\n",
    "    from Scrapper_Consulta_Amigable import CONSULTA\n",
    "    BP = CONSULTA()                        #Abre el navegador de Chrome y se redirige a la página de la Consulta Amigable\n",
    "    BP.AÑO(x)                              #Selecciona año  \n",
    "    BP.ACTIVIDADES('PROYECTO')             #Selecciona solo proyectos\n",
    "    BP.SELECCION('NIVEL','R')              #Selecciona nivel de gobierno nacional\n",
    "    BP.SELECCION('SECTOR','99')            #Filtro por sector\n",
    "    BP.SELECCION('PLIEGO')                 #Filtro por  pliego\n",
    "    nombres = BP.nombres()                 #Extrae nombre del pliego\n",
    "    filas = BP.indices()                   #Extrae el código identificador de cada sector  \n",
    "    contenedor = []                        #Almacenará los datos recabados\n",
    "    for x,y in zip(filas,nombres):         #Se itera para cada pliego hallado en el año\n",
    "        BP.SELECCION('PLIEGO',x)           #Se selecciona un pliego\n",
    "        #Se extraen los datos de proyectos y se agrega columna con nombre de pliego y código\n",
    "        contenedor.append(BP.SELECCION('PROYECTO','TODO_A',{'PLIEGO':x, 'Nomb_Sect':y}))\n",
    "        BP.retroceder()                    #Regresa a la ventana anterior para seleccionar otro sector\n",
    "    BP.CERRAR()                            #Cierra el navegador al terminar la iteración \n",
    "    proy_inversion = pd.concat(contenedor) #Se concatenan las tablas contenidas en la lista\n",
    "    proy_inversion = proy_inversion.reset_index(drop=True)\n",
    "    return proy_inversion"
   ]
  },
  {
   "cell_type": "code",
   "execution_count": null,
   "id": "2506fab3-1c9f-462b-b6c0-77d0f1c685d1",
   "metadata": {},
   "outputs": [],
   "source": [
    "start = time.time()\n",
    "\n",
    "#Extrae los datos de de proyectos del 2004 al 2022 (realiza cuatro búsquedas al mismo tiempo)\n",
    "GR = Parallel(n_jobs=4)(delayed(CONSULTA_GR)(x) for x in tqdm(range(2004,2022)))\n",
    "\n",
    "end = time.time()\n",
    "print(end - start)"
   ]
  },
  {
   "cell_type": "markdown",
   "id": "5d42993c-e3a2-4b2f-925a-2ba9b21b3602",
   "metadata": {},
   "source": [
    "#### 1.3. Gobiernos locales"
   ]
  },
  {
   "cell_type": "code",
   "execution_count": null,
   "id": "dde99f14-b32c-4fb9-a698-c30f53586574",
   "metadata": {},
   "outputs": [],
   "source": [
    "def CONSULTA_GL(x):\n",
    "    '''\n",
    "    Función que descarga proyectos de gobiernos locales por municipalidad\n",
    "    '''\n",
    "    import pandas as pd                    #Librería para manejo de DataFrames\n",
    "    import Scrapper_Consulta_Amigable      #Automatiza la descarga de datos en la Consulta Amigable del MEF\n",
    "    from Scrapper_Consulta_Amigable import CONSULTA\n",
    "    BP = CONSULTA()                        #Abre el navegador de Chrome y se redirige a la página de la Consulta Amigable\n",
    "    BP.AÑO(x)                              #Selecciona año  \n",
    "    BP.ACTIVIDADES('PROYECTO')             #Selecciona solo proyectos\n",
    "    BP.SELECCION('NIVEL','M')              #Filtra por nivel de gobierno y selecciona GL\n",
    "    BP.SELECCION('GOB.LOC./MANCOM.','M')   #Filtra por GOB.LOC./MANCOM. y selecciona GL\n",
    "    BP.SELECCION('DEPARTAMENTO')           #Filtra por departamento\n",
    "    dep = BP.nombres()                     #Extrae nombre de departamento\n",
    "    filas = BP.indices()                   #Extrae código de departamento\n",
    "    contenedor = []                        #Lista para guardar DataFrame\n",
    "    for x,y in tqdm(zip(filas,dep)):       #Itera para cada departamento\n",
    "        BP.SELECCION('DEPARTAMENTO',x)     #Selecciona un departamento específico\n",
    "        BP.SELECCION('PROVINCIA')          #Filtra por provincia\n",
    "        prov = BP.nombres()                #Extrae los nombres de provincia\n",
    "        filas1 = BP.indices()              #Extrae los códigos de provincias\n",
    "        for z,p in zip(filas1,prov):       #Itera para cada provincia\n",
    "            BP.SELECCION('PROVINCIA',z)    #Selecciona provincia específica\n",
    "            BP.SELECCION('MUNICIPALIDAD')  #Filtra opor municipalidad\n",
    "            mun = BP.nombres()             #Extrae nombres de las municipalidades\n",
    "            filas2 = BP.indices()          #Extrae codigos de municipalidaddes\n",
    "            for t,v in zip(filas2,mun):    #Itera para cada municipalidad\n",
    "                BP.SELECCION('MUNICIPALIDAD',t) #Selecciona una municipalidad espcífica\n",
    "                #Extrae datos de proyectos agregando columnas de departamento, provincia y municipalidad\n",
    "                contenedor.append(BP.SELECCION('PROYECTO','TODO_A',{'DEPTO':x, 'Nomb_dep':y,\n",
    "                                                                    'PROV':z, 'Nomb_prov':p,\n",
    "                                                                    'MUNI':t, 'Nomb_muni':v}))\n",
    "                BP.retroceder() #Regresa a la ventana anterior\n",
    "            BP.retroceder()     #Regresa a la aventana anterior\n",
    "        BP.retroceder()         #Regresa a la ventana anterior\n",
    "    BP.CERRAR()                            #Cierra el navegador al terminar la iteración \n",
    "    proy_inversion = pd.concat(contenedor) #Se concatenan las tablas contenidas en la lista\n",
    "    proy_inversion = proy_inversion.reset_index(drop=True)\n",
    "    return proy_inversion"
   ]
  },
  {
   "cell_type": "code",
   "execution_count": null,
   "id": "7310c462-c200-4374-b7cd-eb6fd1c081d8",
   "metadata": {},
   "outputs": [],
   "source": [
    "start = time.time()\n",
    "\n",
    "#Extrae los datos de de proyectos del 2004 al 2022 (realiza cuatro búsquedas al mismo tiempo)\n",
    "GR = Parallel(n_jobs=4)(delayed(CONSULTA_GL)(x) for x in tqdm(range(2004,2022)))\n",
    "\n",
    "end = time.time()\n",
    "print(end - start)"
   ]
  },
  {
   "cell_type": "markdown",
   "id": "62c3726b-c4b8-422a-8c12-4a5babaa4d31",
   "metadata": {},
   "source": [
    "### **2. Sistema de Seguimiento de Inversiones**"
   ]
  },
  {
   "cell_type": "code",
   "execution_count": null,
   "id": "f781f46a-0d14-4519-b676-220cd813482c",
   "metadata": {},
   "outputs": [],
   "source": [
    "import pandas as pd\n",
    "import Scrapper_SSI #Automatiza la descarga de datos en el Sistema de Seguimiento de Inversiones \n",
    "from Scrapper_SSI import INVERSIONES\n",
    "from tqdm import tqdm #Muestra la barra de progreso de una iteración \n",
    "from tqdm.notebook import tqdm_notebook"
   ]
  },
  {
   "cell_type": "code",
   "execution_count": null,
   "id": "47c2345c-b8c3-42f5-9d01-30164f1d5158",
   "metadata": {},
   "outputs": [],
   "source": [
    "def agrupar(a, n):\n",
    "    '''\n",
    "    Funcion para separar lista de codigos en grupos más asequibles\n",
    "    '''\n",
    "    k, m = divmod(len(a), n)\n",
    "    return [a[i*k+min(i, m):(i+1)*k+min(i+1, m)] for i in range(n)]"
   ]
  },
  {
   "cell_type": "code",
   "execution_count": null,
   "id": "a96a3b5b-6ba6-4806-8589-f11109cdb242",
   "metadata": {},
   "outputs": [],
   "source": [
    "GL= pd.read_excel('GL_CODES.xlsx')\n",
    "listas = agrupar(list(GL['cod']),20)\n",
    "len(listas[1]) #Divide las listas en 20 grupos"
   ]
  },
  {
   "cell_type": "code",
   "execution_count": null,
   "id": "11750bbb-54de-45be-8381-ee03ae92b867",
   "metadata": {},
   "outputs": [],
   "source": [
    "def araña(P = []):\n",
    "    '''\n",
    "    Función de extracción de datos del SSI\n",
    "    '''\n",
    "    import Scrapper_SSI #Automatiza la descarga de datos en el Sistema de Seguimiento de Inversiones \n",
    "    from Scrapper_SSI import INVERSIONES\n",
    "    from tqdm import tqdm #Muestra la barra de progreso de una iteración \n",
    "    from tqdm.notebook import tqdm_notebook \n",
    "    \n",
    "    SI= INVERSIONES() #Abre el navegador de Firefox y se redirige a la página del SSI\n",
    "    contenido = []    #Creamos una lista vacía donde guardar los datos extraídos\n",
    "    for x in tqdm(P): #Iteramos para cada código de inversión de la serie \n",
    "        SI.BUSCAR(x)  #Busca el código en el SSI\n",
    "        contenido.append(SI.COMPLETO_RES()) #Guarda la información en la lista vacia \"contenido\"\n",
    "    SI.CERRAR()       #Cierra el navegador al terminar la iteración \n",
    "    proy = pd.concat(contenido) #Se concatenan las tablas contenidas en la lista\n",
    "    return proy"
   ]
  },
  {
   "cell_type": "code",
   "execution_count": null,
   "id": "0eb91533-981f-45b7-a1b6-4f4414496704",
   "metadata": {},
   "outputs": [],
   "source": [
    "from joblib import Parallel, delayed #Permite paralelizar los test de selenium \n",
    "import time\n",
    "\n",
    "start = time.time()\n",
    "proyectos = Parallel(n_jobs=5)(delayed(araña)(x) for x in tqdm_notebook(listas,desc='Progreso'))\n",
    "\n",
    "end = time.time()\n",
    "print(end - start)"
   ]
  },
  {
   "cell_type": "code",
   "execution_count": null,
   "id": "1e00dfee-9dbf-48ce-87e4-286b1a1767b2",
   "metadata": {},
   "outputs": [],
   "source": [
    "GL = pd.concat(proyectos)\n",
    "GL.to_pickle('GL14.pkl') # Guardamos en formato pickle\n",
    "GL.to_pickle('GL14.pkl') # Guardamos en formato excel"
   ]
  }
 ],
 "metadata": {
  "kernelspec": {
   "display_name": "Python 3 (ipykernel)",
   "language": "python",
   "name": "python3"
  },
  "language_info": {
   "codemirror_mode": {
    "name": "ipython",
    "version": 3
   },
   "file_extension": ".py",
   "mimetype": "text/x-python",
   "name": "python",
   "nbconvert_exporter": "python",
   "pygments_lexer": "ipython3",
   "version": "3.8.12"
  }
 },
 "nbformat": 4,
 "nbformat_minor": 5
}
