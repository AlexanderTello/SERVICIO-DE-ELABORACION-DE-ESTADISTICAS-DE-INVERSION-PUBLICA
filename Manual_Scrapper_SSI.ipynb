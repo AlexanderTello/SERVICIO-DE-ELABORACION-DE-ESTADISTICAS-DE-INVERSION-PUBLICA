{
 "cells": [
  {
   "cell_type": "markdown",
   "metadata": {},
   "source": [
    "<img src=\"https://media-exp1.licdn.com/dms/image/C560BAQHgXkBxAhPV2Q/company-logo_200_200/0?e=2159024400&v=beta&t=1tsomaFfzFF5LcVhqwqP3sJtGMb8qC_cDGzF5BC6tfg\" width=\"60\" align = \"left\" alt=\"MEF logo\"  />\n",
    "\n",
    "#### <font color='grb({0},{192},{0)'>$$\\large\\text{Manual de manejo del scrapper del Sistema de Seguimiento de Inversiones}$$</font>"
   ]
  },
  {
   "cell_type": "markdown",
   "metadata": {},
   "source": [
    "---"
   ]
  },
  {
   "cell_type": "markdown",
   "metadata": {},
   "source": [
    "##### <font color='grb({1},{0},{0)'>$$\\large\\text{Servicio de elaboración y análisis de las estadísticas de inversión pública para mejorar sus proyecciones.}$$</font>"
   ]
  },
  {
   "cell_type": "markdown",
   "metadata": {},
   "source": [
    "##### <font color='grb({1},{0},{0)'>$\\text{Alexander Max Tello Fuentes}$</font>\n",
    "##### <font color='grb({1},{0},{0)'>$\\text{Entregable N° 3:}$</font> Informe de elaboración de un manual para el usuario que incluyan los códigos de uso de la metodología o programa seleccionado para el acceso a la información (forma de uso de las metodologías, forma de acceso a la información, métodos de manipulación de la información, manual o guía del programa o de la herramienta de manejo de bases de datos o similares)."
   ]
  },
  {
   "cell_type": "markdown",
   "metadata": {},
   "source": [
    "---"
   ]
  },
  {
   "cell_type": "markdown",
   "metadata": {},
   "source": [
    "# **Scrapper SSI**\n",
    "El Scrapper SSI es una herramienta que permite interactuar con el **Sistema de Seguimiento de Inversiones (SSI)** y obtener en formato de tabla los datos generales, financieros, y las contrataciones (obras, servicios, bienes y consultorias) de un proyecto de inversión.  \n",
    "Esta herramienta está escita en código Python, utilizando los paquetes de web scraping para páginas dinámicas, **\"Selenium\"**, y páginas estáticas, **\"Beautiful Soup\"**.  \n",
    "A continuación, se presentan las funcionalidades de la herramienta y los pasos a seguir para su uso."
   ]
  },
  {
   "cell_type": "markdown",
   "metadata": {},
   "source": [
    "##### <font color='grb({0},{192},{0)'>$\\large\\text{Consideraciones previas!}$</font>\n",
    "Algunas librerías necesarias para usar esta herramienta no vienen por default con la descarga de Python. Por ello es necesario instalarlas previamente. Para una instalación rápida puede ejecutar la siguiente celda de códigos que instala Selenium y Beautiful Soup.  \n",
    "**Nota: Como los paquetes no estan instalados de forma permanente se debe ejecutar esta celda antes de que se use esta herramienta.** "
   ]
  },
  {
   "cell_type": "code",
   "execution_count": 1,
   "metadata": {},
   "outputs": [
    {
     "name": "stdout",
     "output_type": "stream",
     "text": [
      "Requirement already satisfied: selenium in c:\\users\\lenovo\\anaconda3\\lib\\site-packages (3.141.0)\n",
      "Requirement already satisfied: urllib3 in c:\\users\\lenovo\\anaconda3\\lib\\site-packages (from selenium) (1.26.8)\n",
      "Requirement already satisfied: BeautifulSoup4 in c:\\users\\lenovo\\anaconda3\\lib\\site-packages (4.10.0)\n",
      "Requirement already satisfied: soupsieve>1.2 in c:\\users\\lenovo\\anaconda3\\lib\\site-packages (from BeautifulSoup4) (2.3.1)\n",
      "Requirement already satisfied: tqdm in c:\\users\\lenovo\\anaconda3\\lib\\site-packages (4.62.3)\n",
      "Requirement already satisfied: colorama in c:\\users\\lenovo\\anaconda3\\lib\\site-packages (from tqdm) (0.4.4)\n"
     ]
    }
   ],
   "source": [
    "#Instalación de selenium: para scraping de páginas dinámicas\n",
    "!pip install selenium\n",
    "#Instalación de Beautiful soup: para scrapign de páginas estáticas\n",
    "!pip install BeautifulSoup4\n",
    "#Instalación de tqdm para la visualización de barras de progreso \n",
    "!pip install tqdm     "
   ]
  },
  {
   "cell_type": "markdown",
   "metadata": {},
   "source": [
    "### **1. Importar el Scrapper SSI**\n",
    "\n",
    "El primer paso para el uso del Scrapper SSI es importar el archivo que contiene la codificación de la herramienta. Esto hará que el entorno pueda utilizar las diferentes funciones para extraer datos del SSI.  \n",
    "La codificación requerida se presenta en la siguiente celda. La primera línea permite al entorno utilizar todas las funciones escritas dentro del archivo **SCRAPPER_SSI.py**; luego, la segunda línea permite acceder directamente a la **clase SSI**, la cual permite interactuar con el navegador como se verá más adelante. "
   ]
  },
  {
   "cell_type": "code",
   "execution_count": 2,
   "metadata": {},
   "outputs": [],
   "source": [
    "import sys                           #Paquete que sirve para añadir leer files de subcarpetas en el directorio\n",
    "sys.path.insert(0, './Codigos_base') #Pedimos que se añada la subcarpeta Codigos_base\n",
    "import Scrapper_SSI                  #Importa el archivo \n",
    "from Scrapper_SSI import INVERSIONES #Importa la clase que manipula el Sistema de Seguimiento de Inversiones"
   ]
  },
  {
   "cell_type": "markdown",
   "metadata": {},
   "source": [
    "### **2. Abrir la herramienta Scrapper SSI**\n",
    "\n",
    "Una vez importado el paquete, lo siguiente es iniciarlo. Esto se realiza a través de la codificación en la celda siguiente, la cual descarga un navegador de pruebas (Firefox), seguidamente, el navegador se redirije al portal web Sistema de Seguimiento de Inversiones, y finalmente imprime el mensaje *Listo! Has ingresado al SSI* indicando que ya se peude realizar consultas.  \n",
    "El navegador abierto se manipulará a través del nombre \"SI\" con el objetivo de evitar largas lineas de código.   "
   ]
  },
  {
   "cell_type": "code",
   "execution_count": 3,
   "metadata": {},
   "outputs": [
    {
     "name": "stderr",
     "output_type": "stream",
     "text": [
      "\n",
      "\n",
      "====== WebDriver manager ======\n",
      "Current firefox version is 97.0\n",
      "Get LATEST driver version for 97.0\n",
      "Driver [C:\\Users\\LENOVO\\.wdm\\drivers\\geckodriver\\win64\\v0.30.0\\geckodriver.exe] found in cache\n"
     ]
    },
    {
     "name": "stdout",
     "output_type": "stream",
     "text": [
      "Listo! Has ingresado al SSI\n"
     ]
    }
   ],
   "source": [
    "SI = INVERSIONES() #Inicia el scrapper abriendo un navegador firefox"
   ]
  },
  {
   "cell_type": "markdown",
   "metadata": {},
   "source": [
    "### **3. Buscar información de un proyecto**\n",
    "\n",
    "El siguiente paso es realizar la búsqueda de información del proyecto, ello se logra con el comando \"**SI.BUSCAR(Código del proyecto)**\" cuyo único insumo es el código SNIP  o código único del proyecto.  \n",
    "En esta etapa, el SCRAPPER SSI manipula el navegador para escribir el código del proyecto en las opciones de búsqueda y dar click a buscar. "
   ]
  },
  {
   "cell_type": "code",
   "execution_count": 4,
   "metadata": {},
   "outputs": [],
   "source": [
    "SI.BUSCAR(2088142) #Forma de buscar la información de un proyecto"
   ]
  },
  {
   "cell_type": "markdown",
   "metadata": {},
   "source": [
    "### **4. Información general del proyecto**\n",
    "\n",
    "Los datos generales del proyecto se encuentran en la primera ventana del SSI. Para obtener estos datos mediante el Scrapper SSI solo se debe dar la siguiente instrucción: \"**SI.GENERAL()**\".  \n",
    "El resultado, como se ve en la celda siguiente, es una tabla que lleva el código único del proyecto y datos generales como nombre, estado de la inversión, fecha de viabilidad, costo viable y actual, entre otros. "
   ]
  },
  {
   "cell_type": "code",
   "execution_count": 5,
   "metadata": {},
   "outputs": [
    {
     "data": {
      "text/html": [
       "<div>\n",
       "<style scoped>\n",
       "    .dataframe tbody tr th:only-of-type {\n",
       "        vertical-align: middle;\n",
       "    }\n",
       "\n",
       "    .dataframe tbody tr th {\n",
       "        vertical-align: top;\n",
       "    }\n",
       "\n",
       "    .dataframe thead th {\n",
       "        text-align: right;\n",
       "    }\n",
       "</style>\n",
       "<table border=\"1\" class=\"dataframe\">\n",
       "  <thead>\n",
       "    <tr style=\"text-align: right;\">\n",
       "      <th></th>\n",
       "      <th>CÓDIGO ÚNICO</th>\n",
       "      <th>NOMBRE DE LA INVERSIÓN</th>\n",
       "      <th>ESTADO DE LA INVERSIÓN</th>\n",
       "      <th>UNIDAD EJECUTORA DE INVERSIONES (UEI)</th>\n",
       "      <th>FECHA DE VIABILIDAD/APROBACIÓN</th>\n",
       "      <th>COSTO DE INVERSIÓN VIABLE / APROBADO (S/)</th>\n",
       "      <th>BENEFICIARIOS (HABITANTES)</th>\n",
       "      <th>COSTO DE INVERSIÓN ACTUALIZADO (S/) (a)</th>\n",
       "      <th>SOLUCIÓN DE CONTROVERSIAS (S/) (b)</th>\n",
       "      <th>MONTO DE CARTA FIANZA (S/) (c)</th>\n",
       "      <th>COSTO DE INVERSIÓN TOTAL (S/) (a+b+c)</th>\n",
       "      <th>FECHA DE INICIO DE EJECUCIÓN</th>\n",
       "      <th>FECHA DE FIN DE EJECUCIÓN</th>\n",
       "    </tr>\n",
       "  </thead>\n",
       "  <tbody>\n",
       "    <tr>\n",
       "      <th>0</th>\n",
       "      <td>2088142</td>\n",
       "      <td>MAJES SIGUAS - II ETAPA</td>\n",
       "      <td>ACTIVO</td>\n",
       "      <td>UEI DEL PROYECTO ESPECIAL MAJES SIGUAS AUTODEMA</td>\n",
       "      <td>10/01/2008</td>\n",
       "      <td>1,338,419,640.00</td>\n",
       "      <td>350,000</td>\n",
       "      <td>2,019,045,786.24</td>\n",
       "      <td>0.00</td>\n",
       "      <td>0.00</td>\n",
       "      <td>2,019,045,786.24</td>\n",
       "      <td>01/09/2015</td>\n",
       "      <td>31/12/2025</td>\n",
       "    </tr>\n",
       "  </tbody>\n",
       "</table>\n",
       "</div>"
      ],
      "text/plain": [
       "  CÓDIGO ÚNICO   NOMBRE DE LA INVERSIÓN ESTADO DE LA INVERSIÓN  \\\n",
       "0      2088142  MAJES SIGUAS - II ETAPA                 ACTIVO   \n",
       "\n",
       "             UNIDAD EJECUTORA DE INVERSIONES (UEI)  \\\n",
       "0  UEI DEL PROYECTO ESPECIAL MAJES SIGUAS AUTODEMA   \n",
       "\n",
       "   FECHA DE VIABILIDAD/APROBACIÓN  COSTO DE INVERSIÓN VIABLE / APROBADO (S/)  \\\n",
       "0                      10/01/2008                           1,338,419,640.00   \n",
       "\n",
       "   BENEFICIARIOS (HABITANTES)  COSTO DE INVERSIÓN ACTUALIZADO (S/) (a)  \\\n",
       "0                     350,000                         2,019,045,786.24   \n",
       "\n",
       "   SOLUCIÓN DE CONTROVERSIAS (S/) (b)  MONTO DE CARTA FIANZA (S/) (c)  \\\n",
       "0                                0.00                            0.00   \n",
       "\n",
       "   COSTO DE INVERSIÓN TOTAL (S/) (a+b+c)   FECHA DE INICIO DE EJECUCIÓN  \\\n",
       "0                       2,019,045,786.24                     01/09/2015   \n",
       "\n",
       "    FECHA DE FIN DE EJECUCIÓN  \n",
       "0                  31/12/2025  "
      ]
     },
     "execution_count": 5,
     "metadata": {},
     "output_type": "execute_result"
    }
   ],
   "source": [
    "SI.GENERAL() #Raspado de datos generales del proyecto"
   ]
  },
  {
   "cell_type": "markdown",
   "metadata": {},
   "source": [
    "### **5. Información financiera del proyecto**\n",
    "\n",
    "La información financiera del proyecto se encuentra al realizar un click en el botón Siaf dentro del SSI. Este botón a veces se traba, por lo que automatizarlo dinámicamente sería un problema. La ventaja del Scrapper SSI es que no es necesario hacer click en ninguna otra opción, al leer el código HTML detrás de la página, el scrapper es capaz de devolver los datos financieros del proyecto en cuestión, haciendo aun más veloz el raspado de datos.  \n",
    "Para obtener estos datos mediante el Scrapper SSI solo se debe dar la siguiente instrucción: \"**SI.SIAF()**\".  \n",
    "El resultado, como se ve en la celda siguiente, es una tabla que lleva el código único del proyecto y datos finacieros como PIA,PIM, Devengado anual y mensual del proyecto. "
   ]
  },
  {
   "cell_type": "code",
   "execution_count": 6,
   "metadata": {},
   "outputs": [
    {
     "data": {
      "text/html": [
       "<div>\n",
       "<style scoped>\n",
       "    .dataframe tbody tr th:only-of-type {\n",
       "        vertical-align: middle;\n",
       "    }\n",
       "\n",
       "    .dataframe tbody tr th {\n",
       "        vertical-align: top;\n",
       "    }\n",
       "\n",
       "    .dataframe thead th {\n",
       "        text-align: right;\n",
       "    }\n",
       "</style>\n",
       "<table border=\"1\" class=\"dataframe\">\n",
       "  <thead>\n",
       "    <tr style=\"text-align: right;\">\n",
       "      <th></th>\n",
       "      <th>CÓDIGO ÚNICO</th>\n",
       "      <th>COSTO INVERSIÓN TOTAL (a)</th>\n",
       "      <th>DEVENGADO ACUMULADO AL 2022 (b)</th>\n",
       "      <th>AVANCE FINANCIERO ACUMULADO (b/a)</th>\n",
       "      <th>SALDO POR EJECUTAR (a-b)</th>\n",
       "      <th>FECHA DEL PRIMER DEVENGADO</th>\n",
       "      <th>PIM 2022 (c)</th>\n",
       "      <th>DEVENGADO 2022 (d)</th>\n",
       "      <th>AVANCE FINANCIERO 2022 (d/c)</th>\n",
       "      <th>SALDO POR DEVENGAR 2022 (c-d)</th>\n",
       "      <th>...</th>\n",
       "      <th>2022-03-01 00:00:00</th>\n",
       "      <th>2022-04-01 00:00:00</th>\n",
       "      <th>2022-05-01 00:00:00</th>\n",
       "      <th>2022-06-01 00:00:00</th>\n",
       "      <th>2022-07-01 00:00:00</th>\n",
       "      <th>2022-08-01 00:00:00</th>\n",
       "      <th>2022-09-01 00:00:00</th>\n",
       "      <th>2022-10-01 00:00:00</th>\n",
       "      <th>2022-11-01 00:00:00</th>\n",
       "      <th>2022-12-01 00:00:00</th>\n",
       "    </tr>\n",
       "  </thead>\n",
       "  <tbody>\n",
       "    <tr>\n",
       "      <th>0</th>\n",
       "      <td>2088142</td>\n",
       "      <td>2019.045786</td>\n",
       "      <td>541.999238</td>\n",
       "      <td>26.8 %</td>\n",
       "      <td>1477.046548</td>\n",
       "      <td>ENE-2009</td>\n",
       "      <td>172.998936</td>\n",
       "      <td>0.049492</td>\n",
       "      <td>0 %</td>\n",
       "      <td>172.949444</td>\n",
       "      <td>...</td>\n",
       "      <td>0.0</td>\n",
       "      <td>0.0</td>\n",
       "      <td>0.0</td>\n",
       "      <td>0.0</td>\n",
       "      <td>0.0</td>\n",
       "      <td>0.0</td>\n",
       "      <td>0.0</td>\n",
       "      <td>0.0</td>\n",
       "      <td>0.0</td>\n",
       "      <td>0.0</td>\n",
       "    </tr>\n",
       "  </tbody>\n",
       "</table>\n",
       "<p>1 rows × 249 columns</p>\n",
       "</div>"
      ],
      "text/plain": [
       "  CÓDIGO ÚNICO  COSTO INVERSIÓN TOTAL (a)  DEVENGADO ACUMULADO AL 2022 (b)   \\\n",
       "0      2088142                2019.045786                        541.999238   \n",
       "\n",
       "   AVANCE FINANCIERO ACUMULADO (b/a)  SALDO POR EJECUTAR (a-b)  \\\n",
       "0                             26.8 %               1477.046548   \n",
       "\n",
       "  FECHA DEL PRIMER DEVENGADO  PIM 2022 (c)  DEVENGADO 2022 (d)  \\\n",
       "0                   ENE-2009    172.998936            0.049492   \n",
       "\n",
       "  AVANCE FINANCIERO 2022 (d/c)   SALDO POR DEVENGAR 2022 (c-d)  ...  \\\n",
       "0                           0 %                     172.949444  ...   \n",
       "\n",
       "  2022-03-01 00:00:00  2022-04-01 00:00:00  2022-05-01 00:00:00  \\\n",
       "0                 0.0                  0.0                  0.0   \n",
       "\n",
       "   2022-06-01 00:00:00  2022-07-01 00:00:00  2022-08-01 00:00:00  \\\n",
       "0                  0.0                  0.0                  0.0   \n",
       "\n",
       "   2022-09-01 00:00:00  2022-10-01 00:00:00  2022-11-01 00:00:00  \\\n",
       "0                  0.0                  0.0                  0.0   \n",
       "\n",
       "   2022-12-01 00:00:00  \n",
       "0                  0.0  \n",
       "\n",
       "[1 rows x 249 columns]"
      ]
     },
     "execution_count": 6,
     "metadata": {},
     "output_type": "execute_result"
    }
   ],
   "source": [
    "SI.SIAF()#Raspado de datos financieros del proyecto"
   ]
  },
  {
   "cell_type": "markdown",
   "metadata": {},
   "source": [
    "### **6. Información de contrataciones del proyecto**\n",
    "\n",
    "La información de las contrataciones involucradas en el proyecto se obtiene de la misma forma que en el caso anterior del SIAF, no es encesario realizar ningún click, solamente se da una simple instrucción.  \n",
    "Para obtener estos datos mediante el Scrapper SSI solo se debe dar la siguiente orden: \"**SI.SEACE()**\".  \n",
    "El resultado, como se ve en la celda siguiente, es una tabla que lleva el código único del proyecto y datos de contrataciones de obras, servicios, consultorias y bienes. "
   ]
  },
  {
   "cell_type": "code",
   "execution_count": 7,
   "metadata": {},
   "outputs": [
    {
     "data": {
      "text/html": [
       "<div>\n",
       "<style scoped>\n",
       "    .dataframe tbody tr th:only-of-type {\n",
       "        vertical-align: middle;\n",
       "    }\n",
       "\n",
       "    .dataframe tbody tr th {\n",
       "        vertical-align: top;\n",
       "    }\n",
       "\n",
       "    .dataframe thead th {\n",
       "        text-align: right;\n",
       "    }\n",
       "</style>\n",
       "<table border=\"1\" class=\"dataframe\">\n",
       "  <thead>\n",
       "    <tr style=\"text-align: right;\">\n",
       "      <th></th>\n",
       "      <th>CÓDIGO ÚNICO</th>\n",
       "      <th>Serv_Descripcion_1</th>\n",
       "      <th>Serv_Contratista_1</th>\n",
       "      <th>Serv_Contrato_1</th>\n",
       "      <th>Serv_Suscripcion_1</th>\n",
       "      <th>Serv_Monto total_1</th>\n",
       "      <th>Serv_Monto item_1</th>\n",
       "      <th>Serv_Descripcion_2</th>\n",
       "      <th>Serv_Contratista_2</th>\n",
       "      <th>Serv_Contrato_2</th>\n",
       "      <th>...</th>\n",
       "      <th>Serv_Contrato_22</th>\n",
       "      <th>Serv_Suscripcion_22</th>\n",
       "      <th>Serv_Monto total_22</th>\n",
       "      <th>Serv_Monto item_22</th>\n",
       "      <th>Serv_Descripcion_23</th>\n",
       "      <th>Serv_Contratista_23</th>\n",
       "      <th>Serv_Contrato_23</th>\n",
       "      <th>Serv_Suscripcion_23</th>\n",
       "      <th>Serv_Monto total_23</th>\n",
       "      <th>Serv_Monto item_23</th>\n",
       "    </tr>\n",
       "  </thead>\n",
       "  <tbody>\n",
       "    <tr>\n",
       "      <th>0</th>\n",
       "      <td>2088142</td>\n",
       "      <td>SERVICIO DE VIGILANCIA PARA DAR RESGUARDO A TE...</td>\n",
       "      <td>SEGURIDAD Y PROTECCION PATRIMONIAL SOCIEDAD AN...</td>\n",
       "      <td>12-2020-GE</td>\n",
       "      <td>2020-07-21</td>\n",
       "      <td>0.52232</td>\n",
       "      <td>0.52232</td>\n",
       "      <td>SERVICIO DE CONSULTORIA EN GENERAL PARA EL SER...</td>\n",
       "      <td>FC INGENIERIA Y SERVICIOS AMBIENTALES SOCIEDAD...</td>\n",
       "      <td>007-2020-GE</td>\n",
       "      <td>...</td>\n",
       "      <td>008-2016-GE</td>\n",
       "      <td>2016-09-06</td>\n",
       "      <td>0.147</td>\n",
       "      <td>0.147</td>\n",
       "      <td>SERVICIO DE SEGURIDAD Y VIGILANCIA 2016-2017</td>\n",
       "      <td>CORPORACION DE SEGURIDAD PRIVADA INTERNACIONAL...</td>\n",
       "      <td>003-2016-GE</td>\n",
       "      <td>2016-06-14</td>\n",
       "      <td>0.4004</td>\n",
       "      <td>0.4004</td>\n",
       "    </tr>\n",
       "  </tbody>\n",
       "</table>\n",
       "<p>1 rows × 139 columns</p>\n",
       "</div>"
      ],
      "text/plain": [
       "  CÓDIGO ÚNICO                                 Serv_Descripcion_1  \\\n",
       "0      2088142  SERVICIO DE VIGILANCIA PARA DAR RESGUARDO A TE...   \n",
       "\n",
       "                                  Serv_Contratista_1 Serv_Contrato_1  \\\n",
       "0  SEGURIDAD Y PROTECCION PATRIMONIAL SOCIEDAD AN...      12-2020-GE   \n",
       "\n",
       "  Serv_Suscripcion_1  Serv_Monto total_1  Serv_Monto item_1  \\\n",
       "0         2020-07-21             0.52232            0.52232   \n",
       "\n",
       "                                  Serv_Descripcion_2  \\\n",
       "0  SERVICIO DE CONSULTORIA EN GENERAL PARA EL SER...   \n",
       "\n",
       "                                  Serv_Contratista_2 Serv_Contrato_2  ...  \\\n",
       "0  FC INGENIERIA Y SERVICIOS AMBIENTALES SOCIEDAD...     007-2020-GE  ...   \n",
       "\n",
       "  Serv_Contrato_22  Serv_Suscripcion_22  Serv_Monto total_22  \\\n",
       "0      008-2016-GE           2016-09-06                0.147   \n",
       "\n",
       "  Serv_Monto item_22                           Serv_Descripcion_23  \\\n",
       "0              0.147  SERVICIO DE SEGURIDAD Y VIGILANCIA 2016-2017   \n",
       "\n",
       "                                 Serv_Contratista_23 Serv_Contrato_23  \\\n",
       "0  CORPORACION DE SEGURIDAD PRIVADA INTERNACIONAL...      003-2016-GE   \n",
       "\n",
       "   Serv_Suscripcion_23  Serv_Monto total_23 Serv_Monto item_23  \n",
       "0           2016-06-14               0.4004             0.4004  \n",
       "\n",
       "[1 rows x 139 columns]"
      ]
     },
     "execution_count": 7,
     "metadata": {},
     "output_type": "execute_result"
    }
   ],
   "source": [
    "SI.SEACE() #Raspado de datos de contrataciones del proyecto"
   ]
  },
  {
   "cell_type": "markdown",
   "metadata": {},
   "source": [
    "### **7. Información agregada del proyecto**\n",
    "\n",
    "La siguiente funcionalidad es útil en los casos en los que se quiere obtener tanto los datos generales, financieros y de contrataciones de un proyecto de inversión. Ello es posible ya que todas los resultados anteriores tenían una llave primaria, que es el código único de inversiones, lo cual permite unir las tablas en uno.  \n",
    "Para dar este orden simplemente se debe dar la siguiente orden: \"**SI.COMPLETO()**\"."
   ]
  },
  {
   "cell_type": "code",
   "execution_count": 8,
   "metadata": {},
   "outputs": [
    {
     "data": {
      "text/html": [
       "<div>\n",
       "<style scoped>\n",
       "    .dataframe tbody tr th:only-of-type {\n",
       "        vertical-align: middle;\n",
       "    }\n",
       "\n",
       "    .dataframe tbody tr th {\n",
       "        vertical-align: top;\n",
       "    }\n",
       "\n",
       "    .dataframe thead th {\n",
       "        text-align: right;\n",
       "    }\n",
       "</style>\n",
       "<table border=\"1\" class=\"dataframe\">\n",
       "  <thead>\n",
       "    <tr style=\"text-align: right;\">\n",
       "      <th></th>\n",
       "      <th>CÓDIGO ÚNICO</th>\n",
       "      <th>NOMBRE DE LA INVERSIÓN</th>\n",
       "      <th>ESTADO DE LA INVERSIÓN</th>\n",
       "      <th>UNIDAD EJECUTORA DE INVERSIONES (UEI)</th>\n",
       "      <th>FECHA DE VIABILIDAD/APROBACIÓN</th>\n",
       "      <th>COSTO DE INVERSIÓN VIABLE / APROBADO (S/)</th>\n",
       "      <th>BENEFICIARIOS (HABITANTES)</th>\n",
       "      <th>COSTO DE INVERSIÓN ACTUALIZADO (S/) (a)</th>\n",
       "      <th>SOLUCIÓN DE CONTROVERSIAS (S/) (b)</th>\n",
       "      <th>MONTO DE CARTA FIANZA (S/) (c)</th>\n",
       "      <th>...</th>\n",
       "      <th>2022-03-01 00:00:00</th>\n",
       "      <th>2022-04-01 00:00:00</th>\n",
       "      <th>2022-05-01 00:00:00</th>\n",
       "      <th>2022-06-01 00:00:00</th>\n",
       "      <th>2022-07-01 00:00:00</th>\n",
       "      <th>2022-08-01 00:00:00</th>\n",
       "      <th>2022-09-01 00:00:00</th>\n",
       "      <th>2022-10-01 00:00:00</th>\n",
       "      <th>2022-11-01 00:00:00</th>\n",
       "      <th>2022-12-01 00:00:00</th>\n",
       "    </tr>\n",
       "  </thead>\n",
       "  <tbody>\n",
       "    <tr>\n",
       "      <th>0</th>\n",
       "      <td>2088142</td>\n",
       "      <td>MAJES SIGUAS - II ETAPA</td>\n",
       "      <td>ACTIVO</td>\n",
       "      <td>UEI DEL PROYECTO ESPECIAL MAJES SIGUAS AUTODEMA</td>\n",
       "      <td>10/01/2008</td>\n",
       "      <td>1,338,419,640.00</td>\n",
       "      <td>350,000</td>\n",
       "      <td>2,019,045,786.24</td>\n",
       "      <td>0.00</td>\n",
       "      <td>0.00</td>\n",
       "      <td>...</td>\n",
       "      <td>0.0</td>\n",
       "      <td>0.0</td>\n",
       "      <td>0.0</td>\n",
       "      <td>0.0</td>\n",
       "      <td>0.0</td>\n",
       "      <td>0.0</td>\n",
       "      <td>0.0</td>\n",
       "      <td>0.0</td>\n",
       "      <td>0.0</td>\n",
       "      <td>0.0</td>\n",
       "    </tr>\n",
       "  </tbody>\n",
       "</table>\n",
       "<p>1 rows × 399 columns</p>\n",
       "</div>"
      ],
      "text/plain": [
       "  CÓDIGO ÚNICO   NOMBRE DE LA INVERSIÓN ESTADO DE LA INVERSIÓN  \\\n",
       "0      2088142  MAJES SIGUAS - II ETAPA                 ACTIVO   \n",
       "\n",
       "             UNIDAD EJECUTORA DE INVERSIONES (UEI)  \\\n",
       "0  UEI DEL PROYECTO ESPECIAL MAJES SIGUAS AUTODEMA   \n",
       "\n",
       "   FECHA DE VIABILIDAD/APROBACIÓN  COSTO DE INVERSIÓN VIABLE / APROBADO (S/)  \\\n",
       "0                      10/01/2008                           1,338,419,640.00   \n",
       "\n",
       "   BENEFICIARIOS (HABITANTES)  COSTO DE INVERSIÓN ACTUALIZADO (S/) (a)  \\\n",
       "0                     350,000                         2,019,045,786.24   \n",
       "\n",
       "   SOLUCIÓN DE CONTROVERSIAS (S/) (b)  MONTO DE CARTA FIANZA (S/) (c)  ...  \\\n",
       "0                                0.00                            0.00  ...   \n",
       "\n",
       "  2022-03-01 00:00:00 2022-04-01 00:00:00 2022-05-01 00:00:00  \\\n",
       "0                 0.0                 0.0                 0.0   \n",
       "\n",
       "  2022-06-01 00:00:00 2022-07-01 00:00:00 2022-08-01 00:00:00  \\\n",
       "0                 0.0                 0.0                 0.0   \n",
       "\n",
       "  2022-09-01 00:00:00  2022-10-01 00:00:00  2022-11-01 00:00:00  \\\n",
       "0                 0.0                  0.0                  0.0   \n",
       "\n",
       "  2022-12-01 00:00:00  \n",
       "0                 0.0  \n",
       "\n",
       "[1 rows x 399 columns]"
      ]
     },
     "execution_count": 8,
     "metadata": {},
     "output_type": "execute_result"
    }
   ],
   "source": [
    "SI.COMPLETO()"
   ]
  },
  {
   "cell_type": "markdown",
   "metadata": {},
   "source": [
    "### **8. Ejemplo práctico**\n",
    "\n",
    "En el siguiente ejemplo se obtendrán los datos generales, financieros, y contrataciones de los Proyectos Especiales de Inversión Pública (PEIP), cartera que contiene 76 proyectos de Escuelas Bicentenario. Para ello, en un archivo excel se cuenta con la lista de códigos únicos de estos proyectos.  \n",
    "Lo que haremos a continuación es importar esta lista de proyectos y buscarlos en el Sistema de Seguimiento de Inversiones de forma automatizada empleando para ello el Scrapper SSI. De esta forma se obtendrán los datos deseados de forma rápida, sin recurrir a ninguna codificación compleja.  \n",
    "**Nota: Se emplean otros comandos no asociados al *web scraping* para la iteración y concatenación de tablas. A pesar de ello, estos comando son fáciles de entender ya que usualmente el código es simplemente la orden deseada en inglés.**"
   ]
  },
  {
   "cell_type": "markdown",
   "metadata": {},
   "source": [
    "###### <font color='grb({1},{0},{60)'>$\\large\\text{8.1. Importar librerias}$</font>\n",
    "Se importan las librerias \"pandas\", que sirve para el manejo de tablas de datos (DataFrame); \"tqdm\", que pemritirá que se muestre una barra de progreso en la iteración; y Scrapper SSI, el cual permitirá la búsqueda y descarga de datos a través del Sistema de Seguimiento de Inversiones.  "
   ]
  },
  {
   "cell_type": "code",
   "execution_count": 10,
   "metadata": {},
   "outputs": [],
   "source": [
    "import pandas as pd #paquete para el manejo de tablas o DataFrames\n",
    "from tqdm import tqdm #Muestra la barra de progreso de una iteración \n",
    "from tqdm.notebook import tqdm_notebook \n",
    "import Scrapper_SSI #Automatiza la descarga de datos en el Sistema de Seguimiento de Inversiones \n",
    "from Scrapper_SSI import INVERSIONES"
   ]
  },
  {
   "cell_type": "markdown",
   "metadata": {},
   "source": [
    "###### <font color='grb({1},{0},{60)'>$\\large\\text{8.2. Leer la lista de códigos de los PEIP}$</font>\n",
    "Mediante la libreria \"pandas\" se lee el archivo excel \"Lista_de_escuelas.xlsx\" con lo que se tendría el insumo necesario para realizar las búsquedas en el SSI. "
   ]
  },
  {
   "cell_type": "code",
   "execution_count": 11,
   "metadata": {},
   "outputs": [
    {
     "data": {
      "text/html": [
       "<div>\n",
       "<style scoped>\n",
       "    .dataframe tbody tr th:only-of-type {\n",
       "        vertical-align: middle;\n",
       "    }\n",
       "\n",
       "    .dataframe tbody tr th {\n",
       "        vertical-align: top;\n",
       "    }\n",
       "\n",
       "    .dataframe thead th {\n",
       "        text-align: right;\n",
       "    }\n",
       "</style>\n",
       "<table border=\"1\" class=\"dataframe\">\n",
       "  <thead>\n",
       "    <tr style=\"text-align: right;\">\n",
       "      <th></th>\n",
       "      <th>CUI</th>\n",
       "    </tr>\n",
       "  </thead>\n",
       "  <tbody>\n",
       "    <tr>\n",
       "      <th>0</th>\n",
       "      <td>2455343</td>\n",
       "    </tr>\n",
       "    <tr>\n",
       "      <th>1</th>\n",
       "      <td>2455491</td>\n",
       "    </tr>\n",
       "    <tr>\n",
       "      <th>2</th>\n",
       "      <td>2456100</td>\n",
       "    </tr>\n",
       "    <tr>\n",
       "      <th>3</th>\n",
       "      <td>2456389</td>\n",
       "    </tr>\n",
       "    <tr>\n",
       "      <th>4</th>\n",
       "      <td>2457231</td>\n",
       "    </tr>\n",
       "  </tbody>\n",
       "</table>\n",
       "</div>"
      ],
      "text/plain": [
       "       CUI\n",
       "0  2455343\n",
       "1  2455491\n",
       "2  2456100\n",
       "3  2456389\n",
       "4  2457231"
      ]
     },
     "execution_count": 11,
     "metadata": {},
     "output_type": "execute_result"
    }
   ],
   "source": [
    "PEIP = pd.read_excel('Lista_escuelas.xlsx',\n",
    "                     skiprows = 1, usecols = 'B') #Lee la columna B del excel, sin considerar las d0s primeras filas \n",
    "PEIP.head()#muestra las 5 primeras filas de la tabla"
   ]
  },
  {
   "cell_type": "markdown",
   "metadata": {},
   "source": [
    "###### <font color='grb({1},{0},{60)'>$\\large\\text{8.3. Recolectar la información de forma automática}$</font>\n",
    "Una vez abierto el navegador a través del Scrapper SSI el proceso de extracción de datos es simple: primero, se busca información de acuerdo al código de inversión; segundo, se extrae la información; tercero se almacena. Este proceso se repite para cada código, y finalmente se juntan todas las tablas obtenidas coincidiendo por el nombre de la columna. "
   ]
  },
  {
   "cell_type": "code",
   "execution_count": 12,
   "metadata": {},
   "outputs": [
    {
     "name": "stderr",
     "output_type": "stream",
     "text": [
      "\n",
      "\n",
      "====== WebDriver manager ======\n",
      "Current firefox version is 97.0\n",
      "Get LATEST driver version for 97.0\n",
      "Driver [C:\\Users\\LENOVO\\.wdm\\drivers\\geckodriver\\win64\\v0.30.0\\geckodriver.exe] found in cache\n"
     ]
    },
    {
     "name": "stdout",
     "output_type": "stream",
     "text": [
      "Listo! Has ingresado al SSI\n"
     ]
    },
    {
     "data": {
      "application/vnd.jupyter.widget-view+json": {
       "model_id": "491ac60a504c4bb4bf760b9472a484a5",
       "version_major": 2,
       "version_minor": 0
      },
      "text/plain": [
       "Progreso:   0%|          | 0/76 [00:00<?, ?it/s]"
      ]
     },
     "metadata": {},
     "output_type": "display_data"
    },
    {
     "name": "stdout",
     "output_type": "stream",
     "text": [
      "Has cerrado sesión\n"
     ]
    }
   ],
   "source": [
    "SI= INVERSIONES() #Abre el navegador de Firefox y se redirige a la página del SSI\n",
    "contenido = []    #Creamos una lista vacía donde guardar los datos extraídos\n",
    "for x in tqdm_notebook(PEIP['CUI'], desc = 'Progreso'): #Iteramos para cada código de inversión de la serie PEIP\n",
    "    SI.BUSCAR(x)  #Busca el código en el SSI\n",
    "    contenido.append(SI.COMPLETO()) #Guarda la información en la lista vacia \"contenido\"\n",
    "SI.CERRAR()       #Cierra el navegador al terminar la iteración \n",
    "proy_especiales = pd.concat(contenido) #Se concatenan las tablas contenidas en la lista"
   ]
  },
  {
   "cell_type": "code",
   "execution_count": 13,
   "metadata": {},
   "outputs": [
    {
     "data": {
      "text/html": [
       "<div>\n",
       "<style scoped>\n",
       "    .dataframe tbody tr th:only-of-type {\n",
       "        vertical-align: middle;\n",
       "    }\n",
       "\n",
       "    .dataframe tbody tr th {\n",
       "        vertical-align: top;\n",
       "    }\n",
       "\n",
       "    .dataframe thead th {\n",
       "        text-align: right;\n",
       "    }\n",
       "</style>\n",
       "<table border=\"1\" class=\"dataframe\">\n",
       "  <thead>\n",
       "    <tr style=\"text-align: right;\">\n",
       "      <th></th>\n",
       "      <th>CÓDIGO ÚNICO</th>\n",
       "      <th>NOMBRE DE LA INVERSIÓN</th>\n",
       "      <th>ESTADO DE LA INVERSIÓN</th>\n",
       "      <th>UNIDAD EJECUTORA DE INVERSIONES (UEI)</th>\n",
       "      <th>FECHA DE VIABILIDAD/APROBACIÓN</th>\n",
       "      <th>COSTO DE INVERSIÓN VIABLE / APROBADO (S/)</th>\n",
       "      <th>BENEFICIARIOS (HABITANTES)</th>\n",
       "      <th>COSTO DE INVERSIÓN ACTUALIZADO (S/) (a)</th>\n",
       "      <th>SOLUCIÓN DE CONTROVERSIAS (S/) (b)</th>\n",
       "      <th>MONTO DE CARTA FIANZA (S/) (c)</th>\n",
       "      <th>...</th>\n",
       "      <th>2021-03-01 00:00:00</th>\n",
       "      <th>2021-04-01 00:00:00</th>\n",
       "      <th>2021-05-01 00:00:00</th>\n",
       "      <th>2021-06-01 00:00:00</th>\n",
       "      <th>2021-07-01 00:00:00</th>\n",
       "      <th>2021-08-01 00:00:00</th>\n",
       "      <th>2021-09-01 00:00:00</th>\n",
       "      <th>2021-10-01 00:00:00</th>\n",
       "      <th>2021-11-01 00:00:00</th>\n",
       "      <th>2021-12-01 00:00:00</th>\n",
       "    </tr>\n",
       "  </thead>\n",
       "  <tbody>\n",
       "    <tr>\n",
       "      <th>0</th>\n",
       "      <td>2455343</td>\n",
       "      <td>MEJORAMIENTO DEL SERVICIO EDUCATIVO DEL NIVEL ...</td>\n",
       "      <td>ACTIVO</td>\n",
       "      <td>PEIP - Proyecto Especial de Inversión Pública ...</td>\n",
       "      <td>19/07/2019</td>\n",
       "      <td>21,373,993.92</td>\n",
       "      <td>1,247</td>\n",
       "      <td>21,373,993.92</td>\n",
       "      <td>0.00</td>\n",
       "      <td>0.00</td>\n",
       "      <td>...</td>\n",
       "      <td>NaN</td>\n",
       "      <td>NaN</td>\n",
       "      <td>NaN</td>\n",
       "      <td>NaN</td>\n",
       "      <td>NaN</td>\n",
       "      <td>NaN</td>\n",
       "      <td>NaN</td>\n",
       "      <td>NaN</td>\n",
       "      <td>NaN</td>\n",
       "      <td>NaN</td>\n",
       "    </tr>\n",
       "    <tr>\n",
       "      <th>0</th>\n",
       "      <td>2455491</td>\n",
       "      <td>MEJORAMIENTO DEL SERVICIO EDUCATIVO DEL NIVEL ...</td>\n",
       "      <td>ACTIVO</td>\n",
       "      <td>PEIP - Proyecto Especial de Inversión Pública ...</td>\n",
       "      <td>23/07/2019</td>\n",
       "      <td>15,855,901.99</td>\n",
       "      <td>912</td>\n",
       "      <td>15,855,901.99</td>\n",
       "      <td>0.00</td>\n",
       "      <td>0.00</td>\n",
       "      <td>...</td>\n",
       "      <td>NaN</td>\n",
       "      <td>NaN</td>\n",
       "      <td>NaN</td>\n",
       "      <td>NaN</td>\n",
       "      <td>NaN</td>\n",
       "      <td>NaN</td>\n",
       "      <td>NaN</td>\n",
       "      <td>NaN</td>\n",
       "      <td>NaN</td>\n",
       "      <td>NaN</td>\n",
       "    </tr>\n",
       "    <tr>\n",
       "      <th>0</th>\n",
       "      <td>2456100</td>\n",
       "      <td>MEJORAMIENTO DEL SERVICIO EDUCATIVO DEL NIVEL ...</td>\n",
       "      <td>ACTIVO</td>\n",
       "      <td>PEIP - Proyecto Especial de Inversión Pública ...</td>\n",
       "      <td>31/07/2019</td>\n",
       "      <td>19,460,247.92</td>\n",
       "      <td>1,104</td>\n",
       "      <td>19,460,247.92</td>\n",
       "      <td>0.00</td>\n",
       "      <td>0.00</td>\n",
       "      <td>...</td>\n",
       "      <td>NaN</td>\n",
       "      <td>NaN</td>\n",
       "      <td>NaN</td>\n",
       "      <td>NaN</td>\n",
       "      <td>NaN</td>\n",
       "      <td>NaN</td>\n",
       "      <td>NaN</td>\n",
       "      <td>NaN</td>\n",
       "      <td>NaN</td>\n",
       "      <td>NaN</td>\n",
       "    </tr>\n",
       "    <tr>\n",
       "      <th>0</th>\n",
       "      <td>2456389</td>\n",
       "      <td>MEJORAMIENTO DEL SERVICIO EDUCATIVO DEL NIVEL ...</td>\n",
       "      <td>ACTIVO</td>\n",
       "      <td>PEIP - Proyecto Especial de Inversión Pública ...</td>\n",
       "      <td>06/08/2019</td>\n",
       "      <td>48,891,689.87</td>\n",
       "      <td>2,080</td>\n",
       "      <td>69,302,745.74</td>\n",
       "      <td>0.00</td>\n",
       "      <td>0.00</td>\n",
       "      <td>...</td>\n",
       "      <td>NaN</td>\n",
       "      <td>NaN</td>\n",
       "      <td>NaN</td>\n",
       "      <td>NaN</td>\n",
       "      <td>NaN</td>\n",
       "      <td>NaN</td>\n",
       "      <td>NaN</td>\n",
       "      <td>NaN</td>\n",
       "      <td>NaN</td>\n",
       "      <td>NaN</td>\n",
       "    </tr>\n",
       "    <tr>\n",
       "      <th>0</th>\n",
       "      <td>2457231</td>\n",
       "      <td>MEJORAMIENTO DEL SERVICIO EDUCATIVO DEL NIVEL ...</td>\n",
       "      <td>ACTIVO</td>\n",
       "      <td>PEIP - Proyecto Especial de Inversión Pública ...</td>\n",
       "      <td>08/08/2019</td>\n",
       "      <td>27,398,310.86</td>\n",
       "      <td>918</td>\n",
       "      <td>27,398,310.86</td>\n",
       "      <td>0.00</td>\n",
       "      <td>0.00</td>\n",
       "      <td>...</td>\n",
       "      <td>NaN</td>\n",
       "      <td>NaN</td>\n",
       "      <td>NaN</td>\n",
       "      <td>NaN</td>\n",
       "      <td>NaN</td>\n",
       "      <td>NaN</td>\n",
       "      <td>NaN</td>\n",
       "      <td>NaN</td>\n",
       "      <td>NaN</td>\n",
       "      <td>NaN</td>\n",
       "    </tr>\n",
       "  </tbody>\n",
       "</table>\n",
       "<p>5 rows × 45 columns</p>\n",
       "</div>"
      ],
      "text/plain": [
       "  CÓDIGO ÚNICO                             NOMBRE DE LA INVERSIÓN  \\\n",
       "0      2455343  MEJORAMIENTO DEL SERVICIO EDUCATIVO DEL NIVEL ...   \n",
       "0      2455491  MEJORAMIENTO DEL SERVICIO EDUCATIVO DEL NIVEL ...   \n",
       "0      2456100  MEJORAMIENTO DEL SERVICIO EDUCATIVO DEL NIVEL ...   \n",
       "0      2456389  MEJORAMIENTO DEL SERVICIO EDUCATIVO DEL NIVEL ...   \n",
       "0      2457231  MEJORAMIENTO DEL SERVICIO EDUCATIVO DEL NIVEL ...   \n",
       "\n",
       "  ESTADO DE LA INVERSIÓN              UNIDAD EJECUTORA DE INVERSIONES (UEI)  \\\n",
       "0                 ACTIVO  PEIP - Proyecto Especial de Inversión Pública ...   \n",
       "0                 ACTIVO  PEIP - Proyecto Especial de Inversión Pública ...   \n",
       "0                 ACTIVO  PEIP - Proyecto Especial de Inversión Pública ...   \n",
       "0                 ACTIVO  PEIP - Proyecto Especial de Inversión Pública ...   \n",
       "0                 ACTIVO  PEIP - Proyecto Especial de Inversión Pública ...   \n",
       "\n",
       "   FECHA DE VIABILIDAD/APROBACIÓN  COSTO DE INVERSIÓN VIABLE / APROBADO (S/)  \\\n",
       "0                      19/07/2019                              21,373,993.92   \n",
       "0                      23/07/2019                              15,855,901.99   \n",
       "0                      31/07/2019                              19,460,247.92   \n",
       "0                      06/08/2019                              48,891,689.87   \n",
       "0                      08/08/2019                              27,398,310.86   \n",
       "\n",
       "   BENEFICIARIOS (HABITANTES)  COSTO DE INVERSIÓN ACTUALIZADO (S/) (a)  \\\n",
       "0                       1,247                            21,373,993.92   \n",
       "0                         912                            15,855,901.99   \n",
       "0                       1,104                            19,460,247.92   \n",
       "0                       2,080                            69,302,745.74   \n",
       "0                         918                            27,398,310.86   \n",
       "\n",
       "   SOLUCIÓN DE CONTROVERSIAS (S/) (b)  MONTO DE CARTA FIANZA (S/) (c)  ...  \\\n",
       "0                                0.00                            0.00  ...   \n",
       "0                                0.00                            0.00  ...   \n",
       "0                                0.00                            0.00  ...   \n",
       "0                                0.00                            0.00  ...   \n",
       "0                                0.00                            0.00  ...   \n",
       "\n",
       "  2021-03-01 00:00:00 2021-04-01 00:00:00 2021-05-01 00:00:00  \\\n",
       "0                 NaN                 NaN                 NaN   \n",
       "0                 NaN                 NaN                 NaN   \n",
       "0                 NaN                 NaN                 NaN   \n",
       "0                 NaN                 NaN                 NaN   \n",
       "0                 NaN                 NaN                 NaN   \n",
       "\n",
       "  2021-06-01 00:00:00 2021-07-01 00:00:00 2021-08-01 00:00:00  \\\n",
       "0                 NaN                 NaN                 NaN   \n",
       "0                 NaN                 NaN                 NaN   \n",
       "0                 NaN                 NaN                 NaN   \n",
       "0                 NaN                 NaN                 NaN   \n",
       "0                 NaN                 NaN                 NaN   \n",
       "\n",
       "  2021-09-01 00:00:00 2021-10-01 00:00:00 2021-11-01 00:00:00  \\\n",
       "0                 NaN                 NaN                 NaN   \n",
       "0                 NaN                 NaN                 NaN   \n",
       "0                 NaN                 NaN                 NaN   \n",
       "0                 NaN                 NaN                 NaN   \n",
       "0                 NaN                 NaN                 NaN   \n",
       "\n",
       "  2021-12-01 00:00:00  \n",
       "0                 NaN  \n",
       "0                 NaN  \n",
       "0                 NaN  \n",
       "0                 NaN  \n",
       "0                 NaN  \n",
       "\n",
       "[5 rows x 45 columns]"
      ]
     },
     "execution_count": 13,
     "metadata": {},
     "output_type": "execute_result"
    }
   ],
   "source": [
    "proy_especiales.head() # Se muestran las 5 primeras filas de la tabla"
   ]
  },
  {
   "cell_type": "markdown",
   "metadata": {},
   "source": [
    "###### <font color='grb({1},{0},{60)'>$\\large\\text{8.4. Guardar los datos}$</font>\n",
    "Finalmente utilizamos la librería pandas para guardar los resultados en formato Excel. "
   ]
  },
  {
   "cell_type": "code",
   "execution_count": 15,
   "metadata": {},
   "outputs": [],
   "source": [
    "proy_especiales.to_excel('Resultados_ejemplos/PEIP.xlsx') #Guardamos los datos en un excel en la carpeta Resultados_ejemplos"
   ]
  }
 ],
 "metadata": {
  "kernelspec": {
   "display_name": "Python 3 (ipykernel)",
   "language": "python",
   "name": "python3"
  },
  "language_info": {
   "codemirror_mode": {
    "name": "ipython",
    "version": 3
   },
   "file_extension": ".py",
   "mimetype": "text/x-python",
   "name": "python",
   "nbconvert_exporter": "python",
   "pygments_lexer": "ipython3",
   "version": "3.8.12"
  }
 },
 "nbformat": 4,
 "nbformat_minor": 4
}
